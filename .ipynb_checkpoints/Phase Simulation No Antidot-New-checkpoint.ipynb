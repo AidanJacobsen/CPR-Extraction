{
 "cells": [
  {
   "cell_type": "code",
   "execution_count": 1,
   "id": "7d2f4cc0",
   "metadata": {},
   "outputs": [
    {
     "name": "stderr",
     "output_type": "stream",
     "text": [
      "C:\\Users\\draid\\anaconda3\\Lib\\site-packages\\cupyx\\jit\\_interface.py:173: FutureWarning: cupyx.jit.rawkernel is experimental. The interface can change in the future.\n",
      "  cupy._util.experimental('cupyx.jit.rawkernel')\n"
     ]
    }
   ],
   "source": [
    "import numpy as np\n",
    "import matplotlib.pyplot as plt\n",
    "import os\n",
    "import h5py\n",
    "import tdgl\n",
    "from tdgl.geometry import box, circle\n",
    "from tdgl.visualization.animate import create_animation\n",
    "from tdgl.sources import LinearRamp, ConstantField\n",
    "from typing import Optional, Sequence, Union, Tuple\n",
    "import pint\n",
    "from matplotlib.transforms import Affine2D\n",
    "import matplotlib as mpl\n",
    "import copy\n",
    "import cmath\n",
    "import glob\n",
    "import shutil\n",
    "import re\n",
    "\n",
    "\n",
    "os.environ[\"OPENBLAS_NUM_THREADS\"] = \"1\"\n",
    "plt.rcParams[\"figure.figsize\"] = (5, 4)"
   ]
  },
  {
   "cell_type": "code",
   "execution_count": 3,
   "id": "0f64fbde",
   "metadata": {},
   "outputs": [],
   "source": [
    "project_name = \"J7__no_antidot\""
   ]
  },
  {
   "cell_type": "code",
   "execution_count": 89,
   "id": "222aff6d",
   "metadata": {},
   "outputs": [
    {
     "name": "stdout",
     "output_type": "stream",
     "text": [
      "Extracted data loaded from D:\\Documents\\0Purdue\\Research\\Rokhinson Lab\\CPR-Extraction/extracted_data/extracted_points.h5\n",
      "\n",
      "Simulation Ranges: [(0, -0.014696869, 0.014706869)]\n"
     ]
    }
   ],
   "source": [
    "points_filepath = os.getcwd() + \"/extracted_data/extracted_points.h5\"\n",
    "with h5py.File(points_filepath, 'r') as f:\n",
    "    experimental_data = [tuple(row) for row in f['tuples'][:]]\n",
    "\n",
    "print(\"Extracted data loaded from \" + points_filepath + \"\\n\")\n",
    "# print(reconstructed_data)\n",
    "\n",
    "simulation_ranges = [] #[(N, b_min, b_max), ...]\n",
    "vortex_count = 0\n",
    "b_fields = [b for n, b, i in experimental_data]\n",
    "# Calculate min and max\n",
    "if b_fields:  # Check if the filtered list is not empty\n",
    "    min_b = min(b_fields)\n",
    "    max_b = max(b_fields)\n",
    "    simulation_ranges.append((vortex_count, min_b, max_b))\n",
    "else:\n",
    "    print(\"No values found for the specified vortex_count.\")\n",
    "        \n",
    "print(\"Simulation Ranges: \" + str(simulation_ranges))"
   ]
  },
  {
   "cell_type": "code",
   "execution_count": 5,
   "id": "ec880830",
   "metadata": {},
   "outputs": [],
   "source": [
    "def make_video_from_solution(\n",
    "    solution,\n",
    "    output_file=None,\n",
    "    quantities=(\"order_parameter\", \"phase\"),\n",
    "    fps=20,\n",
    "    figsize=(5, 4),\n",
    "):\n",
    "    \"\"\"Generates an HTML5 video from a tdgl.Solution.\"\"\"\n",
    "    with tdgl.non_gui_backend():\n",
    "        with h5py.File(solution.path, \"r\") as h5file:\n",
    "            anim = create_animation(\n",
    "                h5file,\n",
    "                output_file=output_file,\n",
    "                quantities=quantities,\n",
    "                fps=fps,\n",
    "                figure_kwargs=dict(figsize=figsize),\n",
    "            )\n",
    "            #Return early if just saving to file\n",
    "            if(output_file!=None):\n",
    "                return\n",
    "            video = anim.to_html5_video()\n",
    "        return HTML(video)"
   ]
  },
  {
   "cell_type": "code",
   "execution_count": 6,
   "id": "12913136",
   "metadata": {},
   "outputs": [
    {
     "name": "stdout",
     "output_type": "stream",
     "text": [
      "Lambda: 128.48 nm\n"
     ]
    }
   ],
   "source": [
    "#Extracted from Jian's data from 03/13/2024\n",
    "\n",
    "jj_length = 260e-9 #m\n",
    "jj_width = 2000e-9 #m\n",
    "jj_bz_min = 2e-3 #T\n",
    "phi0 = 2.067833848e-15 #Wb\n",
    "\n",
    "jj_flux = phi0\n",
    "jj_area=jj_flux/jj_bz_min\n",
    "jj_length_eff = jj_area/jj_width\n",
    "jj_lambda= (jj_length_eff-jj_length)/2\n",
    "print(\"Lambda: \" + str(round(jj_lambda*1e9, 2)) + \" nm\")\n",
    "\n",
    "electrode_width = 0.3 #um\n",
    "hole_size = 0.8 #um\n",
    "\n",
    "junction_length = 0.110 #um, 120 by design, 100-110 in real device."
   ]
  },
  {
   "cell_type": "code",
   "execution_count": 76,
   "id": "9d88577a",
   "metadata": {},
   "outputs": [],
   "source": [
    "length_units = \"um\"\n",
    "# Material parameters\n",
    "xi = 0.2\n",
    "d = 0.1\n",
    "big_lambda = 0.3\n",
    "\n",
    "\n",
    "london_lambda = jj_lambda*1e6 #np.sqrt(d*big_lambda)\n",
    "\n",
    "\n",
    "layer = tdgl.Layer(coherence_length=xi, london_lambda=london_lambda, thickness=d, gamma=1)\n",
    "\n",
    "# Device geometry\n",
    "total_width = electrode_width*2+hole_size\n",
    "total_length = electrode_width*2+hole_size\n",
    "hole_size = hole_size\n",
    "\n",
    "# Top Right Notch\n",
    "right_notch = (\n",
    "    tdgl.Polygon(\"right_notch\", points=box((total_width-electrode_width)/2, total_length-electrode_width))\n",
    "    .translate(dx=(total_width+electrode_width)/3.9, dy=electrode_width/1.9999)\n",
    "    .resample(401)\n",
    "    \n",
    ")\n",
    "\n",
    "# Top Right Notch\n",
    "left_notch = (\n",
    "    tdgl.Polygon(\"right_notch\", points=box((total_width-electrode_width)/2, total_length-electrode_width))\n",
    "    .translate(dx=-(total_width+electrode_width)/3.9, dy=electrode_width/1.9999)\n",
    "    .resample(401)\n",
    "    \n",
    ")\n",
    "\n",
    "film = (\n",
    "    tdgl.Polygon(\"film\", points=box(total_width, total_length))\n",
    "    .difference(right_notch, left_notch)\n",
    "    .resample(401)\n",
    "    # .buffer(0)\n",
    ")\n",
    "\n",
    "\n",
    "# Holes in the film\n",
    "square_hole = (\n",
    "    tdgl.Polygon(\"square_hole\", points=box(hole_size, hole_size))\n",
    "    .resample(401)\n",
    "    \n",
    ")\n"
   ]
  },
  {
   "cell_type": "code",
   "execution_count": 77,
   "id": "6e3e0fff",
   "metadata": {},
   "outputs": [],
   "source": [
    "device = tdgl.Device(\n",
    "    \"antidot\",\n",
    "    layer=layer,\n",
    "    film=film,\n",
    "#     holes=[square_hole],\n",
    "    # terminals=[source, drain],\n",
    "    # probe_points=probe_points,\n",
    "    # length_units=length_units,\n",
    ")"
   ]
  },
  {
   "cell_type": "code",
   "execution_count": 78,
   "id": "7d06ce70",
   "metadata": {},
   "outputs": [
    {
     "data": {
      "image/png": "[encoded data removed]",
      "text/plain": [
       "<Figure size 500x400 with 1 Axes>"
      ]
     },
     "metadata": {},
     "output_type": "display_data"
    }
   ],
   "source": [
    "fig, ax = device.draw()"
   ]
  },
  {
   "cell_type": "code",
   "execution_count": 79,
   "id": "17df9452",
   "metadata": {},
   "outputs": [
    {
     "name": "stderr",
     "output_type": "stream",
     "text": [
      "Constructing Voronoi polygons: 100%|███████████████████████████████████████████████████████████████████████████| 1426/1426 [00:01<00:00, 1316.38it/s]\n"
     ]
    }
   ],
   "source": [
    "device.make_mesh(max_edge_length=xi / 2, smooth=100)"
   ]
  },
  {
   "cell_type": "code",
   "execution_count": 80,
   "id": "10e1279b",
   "metadata": {},
   "outputs": [
    {
     "data": {
      "image/png": "[encoded data removed]",
      "text/plain": [
       "<Figure size 500x400 with 1 Axes>"
      ]
     },
     "metadata": {},
     "output_type": "display_data"
    }
   ],
   "source": [
    "fig, ax = device.plot(mesh=True, legend=False)"
   ]
  },
  {
   "cell_type": "code",
   "execution_count": 81,
   "id": "dbccf042",
   "metadata": {},
   "outputs": [],
   "source": [
    "# This generates a radially symmetric function for psi using psi(r) and the desired number of vortices.\n",
    "# It could very easily be replaced to a non-symmetric function\n",
    "# The other degree of freedom is the mu_boundary that is currently left as zero like the default.\n",
    "def psi_ansatz(center, vortex_count, psi_radial, points):\n",
    "    #Note that x, y coordinates and center coordinates must be given in dimensionless coordinates\n",
    "    x_center = center[0]\n",
    "    y_center = center[1]\n",
    "    x = points[:, 0]\n",
    "    y = points[:, 1]\n",
    "    phi = np.arctan2((y-y_center),(x-x_center))\n",
    "    r = np.sqrt((x-x_center)**2 + (y-y_center)**2)\n",
    "    return np.exp(vortex_count*1j*phi) * psi_radial(r)\n",
    "\n",
    "def generate_ansatz(device, options, applied_vector_potential, center, vortex_count, psi_radial):\n",
    "    # This runs a short (time=1) simulation to generate a Solution object easily.\n",
    "    # This could be done other ways too, but this is short and larger modifications\n",
    "    # would be better left to the package itself.\n",
    "    # It then edits the TDGLData object\n",
    "    \n",
    "    print(\"Solving 1 time step to generate most of solution object\")\n",
    "    initial_options = tdgl.SolverOptions(\n",
    "        solve_time=1,\n",
    "        field_units = options.field_units,\n",
    "        current_units = options.current_units,\n",
    "    )\n",
    "    solution = tdgl.solve(\n",
    "        device=device,\n",
    "        options=initial_options,\n",
    "    )\n",
    "    \n",
    "    print(\"Calculating Replacement TDGLData\")\n",
    "    \n",
    "    # Directly create a solver to reuse the ability to calculate mu, super_current, and normal current\n",
    "    # I would use the one that was used in tdgl.solve but it is not returned. It would be easy to edit\n",
    "    # the package so that the solver is returned for situations like this. the defaults are copied from\n",
    "    # Solve.py.  solve_for_observables references some built in properties of the solver: default options, operators, \n",
    "    # and mu_boundary. The default options are clearly okay to reference. The operators that are referenced\n",
    "    # are not changed after they are set during initialization assuming that A remains zero.  This means that the\n",
    "    # operators are initialized properly for when solver.solve_for_observables is called.\n",
    "    # solver.mu_boundary is the only parameter that may need to be set, but since no current is flowing into\n",
    "    # or out of the device, I think it is fair to leave it as it is initialized.  mu_boundary is typically all\n",
    "    # zero and remains zero when no current is applied.\n",
    "    \n",
    "    solver = tdgl.solver.solver.TDGLSolver(\n",
    "        device=device,\n",
    "        options=options,\n",
    "        applied_vector_potential=0,\n",
    "        terminal_currents=None,\n",
    "        disorder_epsilon=1,\n",
    "        seed_solution=None,\n",
    "    )\n",
    "    \n",
    "    new_psi = psi_ansatz(center, vortex_count, psi_radial, solution.device.mesh.sites)\n",
    "    new_mu, new_supercurrent, new_normal_current = solver.solve_for_observables(psi=new_psi, dA_dt=0)\n",
    "    \n",
    "    replacement_data = tdgl.solution.data.TDGLData(\n",
    "        step=-1,  #Last step\n",
    "        epsilon=solution.tdgl_data.epsilon, #Leave the same since this is just a physical parameter\n",
    "        psi=new_psi, #This directly uses the psi_ansatz function defined above\n",
    "        mu=new_mu, # Calculated using new_psi\n",
    "        applied_vector_potential=applied_vector_potential, # User Parameter\n",
    "        induced_vector_potential=np.zeros((len(solution.device.mesh.edge_mesh.edges), 2)), # No screening current, this is zero until a solve step screening is performed  \n",
    "        supercurrent=new_supercurrent, # Calculated using new_psi\n",
    "        normal_current=new_normal_current, # Calculated using new_psi\n",
    "        state=solution.tdgl_data.state, # This should be fine to leave as-is. It just contains {'dt', 'step', 'time', 'timestamp'}\n",
    "    )\n",
    "    \n",
    "    print(\"Replacing TDGLData\")\n",
    "    solution.tdgl_data = replacement_data\n",
    "    \n",
    "    print(\"Finished Calculating Ansatz\")\n",
    "    return solution\n",
    "    "
   ]
  },
  {
   "cell_type": "code",
   "execution_count": 82,
   "id": "745c6cc6",
   "metadata": {},
   "outputs": [],
   "source": [
    "#Adjusted constant field that is symmetrical about (0,0) instead of center of mass\n",
    "def custom_uniform_Bz_vector_potential(\n",
    "    positions: np.ndarray,\n",
    "    Bz: Union[float, str, pint.Quantity],\n",
    ") -> np.ndarray:\n",
    "    \"\"\"Calculates the magnetic vector potential [Ax, Ay, Az] at ``positions``\n",
    "    due uniform magnetic field along the z-axis with strength ``Bz``.\n",
    "\n",
    "    Args:\n",
    "        positions: Shape (n, 3) array of (x, y, z) positions in meters at which to\n",
    "            evaluate the vector potential.\n",
    "        Bz: The strength of the uniform field, as a pint-parseable string,\n",
    "            a pint.Quantity, or a float with units of Tesla.\n",
    "\n",
    "    Returns:\n",
    "        Shape (n, 3) array of the vector potential [Ax, Ay, Az] at ``positions``\n",
    "        in units of Tesla * meter.\n",
    "    \"\"\"\n",
    "    ureg = tdgl.em.ureg\n",
    "    assert isinstance(Bz, (float, str, pint.Quantity)), type(Bz)\n",
    "    positions = np.atleast_2d(positions)\n",
    "    assert positions.shape[1] == 3, positions.shape\n",
    "    if not isinstance(positions, pint.Quantity):\n",
    "        positions = positions * ureg(\"meter\")\n",
    "    if isinstance(Bz, str):\n",
    "        Bz = ureg(Bz)\n",
    "    if isinstance(Bz, float):\n",
    "        Bz = Bz * ureg(\"tesla\")\n",
    "    xs = positions[:, 0]\n",
    "    ys = positions[:, 1]\n",
    "    dx = np.ptp(xs)\n",
    "    dy = np.ptp(ys)\n",
    "    xs = xs #- (xs.min() + dx / 2)#Do not shift so we can take advantage of symmetry\n",
    "    ys = ys #- (ys.min() + dy / 2)#Do not shift so we can take advantage of symmetry\n",
    "    Ax = -Bz * ys / 2\n",
    "    Ay = Bz * xs / 2\n",
    "    A = np.stack([Ax, Ay, np.zeros_like(Ax)], axis=1)\n",
    "    return A.to(\"tesla * meter\")\n",
    "\n",
    "#Adjusted constant field that is symmetrical about (0,0) instead of center of mass\n",
    "def custom_constant_field_vector_potential(\n",
    "    x,\n",
    "    y,\n",
    "    z,\n",
    "    *,\n",
    "    Bz: float,\n",
    "    field_units: str = \"mT\",\n",
    "    length_units: str = \"um\",\n",
    "):\n",
    "    ureg = tdgl.em.ureg\n",
    "    if z.ndim == 0:\n",
    "        z = z * np.ones_like(x)\n",
    "    positions = np.array([x.squeeze(), y.squeeze(), z.squeeze()]).T\n",
    "    positions = (positions * ureg(length_units)).to(\"m\").magnitude\n",
    "    Bz = Bz * ureg(field_units)\n",
    "    A = custom_uniform_Bz_vector_potential(positions, Bz)\n",
    "    return A.to(f\"{field_units} * {length_units}\").magnitude\n",
    "\n",
    "#Adjusted constant field that is symmetrical about (0,0) instead of center of mass\n",
    "def custom_ConstantField(\n",
    "    value: float = 0, field_units: str = \"mT\", length_units: str = \"um\"\n",
    ") -> tdgl.Parameter:\n",
    "    \"\"\"Returns a Parameter that computes a constant as a function of ``x, y, z``.\n",
    "    Args:\n",
    "        value: The constant value of the field.\n",
    "    Returns:\n",
    "        A Parameter that returns ``value`` at all ``x, y, z``.\n",
    "    \"\"\"\n",
    "    return tdgl.Parameter(\n",
    "        custom_constant_field_vector_potential,\n",
    "        Bz=float(value),\n",
    "        field_units=field_units,\n",
    "        length_units=length_units,\n",
    "    )"
   ]
  },
  {
   "cell_type": "code",
   "execution_count": 83,
   "id": "469fd2cd",
   "metadata": {},
   "outputs": [],
   "source": [
    "def calculate_solution(field_strength, initial_vortex_count, save_file, seed_solution=None):\n",
    "    # field_strength = 5\n",
    "    \n",
    "    global project_name\n",
    "#     initial_vortex_count = 0\n",
    "\n",
    "    options_no_screening = tdgl.SolverOptions(\n",
    "        solve_time=250,\n",
    "        field_units = \"mT\",\n",
    "        current_units=\"uA\",\n",
    "        output_file=save_file,\n",
    "        save_every=800,\n",
    "        include_screening=False,\n",
    "    )\n",
    "\n",
    "    applied_A = custom_ConstantField(field_strength, field_units=options_no_screening.field_units, length_units=device.length_units)\n",
    "    \n",
    "    print(\"Calculating for Field\", field_strength)\n",
    "    try:\n",
    "        solution = tdgl.Solution.from_hdf5(save_file)\n",
    "        print(\"No Screening Solution Already Exists\")\n",
    "    except FileNotFoundError as e:\n",
    "        print(\"No Screening Existing solution not found. Solving.\")\n",
    "\n",
    "        if(seed_solution is None):\n",
    "            seed_solution = generate_ansatz(\n",
    "                device=device,\n",
    "                options=options_no_screening,\n",
    "                applied_vector_potential=applied_A,#Set this to be what you want to test after generating the ansatz\n",
    "                center=(0,0),\n",
    "                vortex_count=initial_vortex_count,\n",
    "                psi_radial= lambda r: 1 - np.exp(-.2*r),\n",
    "            )\n",
    "            \n",
    "\n",
    "        solution = tdgl.solve(\n",
    "            device,\n",
    "            options=options_no_screening,\n",
    "            applied_vector_potential=applied_A,\n",
    "            seed_solution=seed_solution,\n",
    "        )\n",
    "    return solution, applied_A"
   ]
  },
  {
   "cell_type": "code",
   "execution_count": 84,
   "id": "af6b3cc8",
   "metadata": {},
   "outputs": [],
   "source": [
    "def recalculate_solution_with_screening(field_strength, initial_vortex_count, seed_solution, save_file):\n",
    "    global project_name\n",
    "\n",
    "    options_with_screening = tdgl.SolverOptions(\n",
    "        solve_time=10,\n",
    "        field_units = \"mT\",\n",
    "        current_units=\"uA\",\n",
    "        output_file=save_file,\n",
    "        save_every=800,\n",
    "        include_screening=True,\n",
    "    )\n",
    "\n",
    "    applied_A = custom_ConstantField(field_strength, field_units=options_with_screening.field_units, length_units=device.length_units)\n",
    "    \n",
    "    try:\n",
    "        solution = tdgl.Solution.from_hdf5(save_file)\n",
    "        print(\"Screening Solution Already Exists\")\n",
    "    except FileNotFoundError as e:\n",
    "        print(\"Screening solution not found. Solving.\")\n",
    "\n",
    "        solution = tdgl.solve(\n",
    "            device,\n",
    "            options=options_with_screening,\n",
    "            applied_vector_potential=applied_A,\n",
    "            seed_solution=seed_solution,\n",
    "        )\n",
    "    return solution, applied_A"
   ]
  },
  {
   "cell_type": "code",
   "execution_count": 85,
   "id": "da663578",
   "metadata": {},
   "outputs": [],
   "source": [
    "def calculate_edge_current(solution, x_list, thickness):\n",
    "\n",
    "#    # Plot segment\n",
    "#     fig, axes = plt.subplots(1, 2, figsize=(6, 4))\n",
    "#     _ = solution.plot_currents(ax=axes[0], streamplot=False)\n",
    "#     _ = solution.plot_currents(ax=axes[1])\n",
    "\n",
    "    #Take current through a short segment on the border\n",
    "    ymin =  -total_length/2-0.001\n",
    "    ymax = ymin + 0.01\n",
    "    y = np.linspace(ymin, ymax, 401)\n",
    "    x = x_list * np.ones_like(y)\n",
    "    cross_section = np.array([x, y]).T\n",
    "\n",
    "    current = solution.current_through_path(cross_section)/((ymax-ymin-0.001)*1e-6)/thickness\n",
    "    return current\n",
    "\n",
    "def plot_edge_currents(x, currents):\n",
    "    plt.plot(x, currents)\n",
    "    plt.title(\"Edge Current\")\n",
    "    plt.xlabel(\"X_coordinate [um]\")\n",
    "    plt.ylabel(\"edge_current_density [A/m^2]\")\n",
    "    plt.show()\n",
    "    \n",
    "def plot_currents(solution):\n",
    "   # Plot segment\n",
    "    fig, axes = plt.subplots(1, 2, figsize=(6, 4))\n",
    "    _ = solution.plot_currents(ax=axes[0], streamplot=False)\n",
    "    _ = solution.plot_currents(ax=axes[1])\n",
    "    plt.show()"
   ]
  },
  {
   "cell_type": "code",
   "execution_count": 86,
   "id": "eb2ce636",
   "metadata": {},
   "outputs": [],
   "source": [
    "def calculate_x_phase(x, currents, field_strength):\n",
    "    global london_lambda, junction_length\n",
    "    phi0 = 2.067833848e-15 #Wb\n",
    "    u0 = 1.256637*1e-6 #N*A**(-2)\n",
    "    eta = (2*np.pi/phi0) * ((london_lambda*1e-6)**2*u0) #Constant in units of m/A\n",
    "    x_phase = [(-2*eta*current + 2*np.pi*field_strength*(1e-3)*junction_length*1e-6/phi0)*x_i for (current, x_i) in zip(currents, x)]\n",
    "    return x_phase\n",
    "    \n",
    "def plot_x_phase(x, x_phase):\n",
    "    plt.plot(x, x_phase)\n",
    "    plt.title(\"Guage Invariant Phase (Pre-Optimization)\")\n",
    "    plt.ylabel(\"Phase\")\n",
    "    plt.xlabel(\"X_coordinate [um]\")\n",
    "    plt.show()\n",
    "    \n",
    "def plot_psi(solution, show = True):\n",
    "    fig, axes = solution.plot_order_parameter(figsize=(5.5, 4))\n",
    "    if(show):\n",
    "        plt.show()\n",
    "        \n",
    "    return fig, axes"
   ]
  },
  {
   "cell_type": "code",
   "execution_count": 96,
   "id": "e507b91f",
   "metadata": {
    "scrolled": true
   },
   "outputs": [
    {
     "name": "stdout",
     "output_type": "stream",
     "text": [
      "Calculating for Field -14.696869067847729\n",
      "No Screening Solution Already Exists\n",
      "Calculating for Field -14.096792787313461\n",
      "No Screening Existing solution not found. Solving.\n",
      "Solving 1 time step to generate most of solution object\n"
     ]
    },
    {
     "name": "stderr",
     "output_type": "stream",
     "text": [
      "Simulating:  80%|████████████████████████████████████████████████████████████████████████████████                    | 1/1 [00:00<00:00,  2.14tau/s ]\n"
     ]
    },
    {
     "name": "stdout",
     "output_type": "stream",
     "text": [
      "Calculating Replacement TDGLData\n",
      "Replacing TDGLData\n",
      "Finished Calculating Ansatz\n"
     ]
    },
    {
     "name": "stderr",
     "output_type": "stream",
     "text": [
      "Simulating: 100%|███████████████████████████████████████████████████████████████████████████████████████████████▉| 250/250 [05:46<00:00,  1.39s/tau ]\n"
     ]
    },
    {
     "name": "stdout",
     "output_type": "stream",
     "text": [
      "Calculating for Field -13.496716506779194\n",
      "No Screening Existing solution not found. Solving.\n",
      "Solving 1 time step to generate most of solution object\n"
     ]
    },
    {
     "name": "stderr",
     "output_type": "stream",
     "text": [
      "Simulating:  80%|████████████████████████████████████████████████████████████████████████████████                    | 1/1 [00:00<00:00,  4.61tau/s ]\n"
     ]
    },
    {
     "name": "stdout",
     "output_type": "stream",
     "text": [
      "Calculating Replacement TDGLData\n",
      "Replacing TDGLData\n",
      "Finished Calculating Ansatz\n"
     ]
    },
    {
     "name": "stderr",
     "output_type": "stream",
     "text": [
      "Simulating: 100%|███████████████████████████████████████████████████████████████████████████████████████████████▉| 250/250 [02:40<00:00,  1.56tau/s ]\n"
     ]
    },
    {
     "name": "stdout",
     "output_type": "stream",
     "text": [
      "Calculating for Field -12.896640226244926\n",
      "No Screening Existing solution not found. Solving.\n",
      "Solving 1 time step to generate most of solution object\n"
     ]
    },
    {
     "name": "stderr",
     "output_type": "stream",
     "text": [
      "Simulating:  80%|████████████████████████████████████████████████████████████████████████████████                    | 1/1 [00:00<00:00,  5.83tau/s ]"
     ]
    },
    {
     "name": "stdout",
     "output_type": "stream",
     "text": [
      "Calculating Replacement TDGLData\n"
     ]
    },
    {
     "name": "stderr",
     "output_type": "stream",
     "text": [
      "\n"
     ]
    },
    {
     "name": "stdout",
     "output_type": "stream",
     "text": [
      "Replacing TDGLData\n",
      "Finished Calculating Ansatz\n"
     ]
    },
    {
     "name": "stderr",
     "output_type": "stream",
     "text": [
      "Simulating: 100%|███████████████████████████████████████████████████████████████████████████████████████████████▉| 250/250 [01:49<00:00,  2.29tau/s ]\n"
     ]
    },
    {
     "name": "stdout",
     "output_type": "stream",
     "text": [
      "Calculating for Field -12.296563945710659\n",
      "No Screening Existing solution not found. Solving.\n",
      "Solving 1 time step to generate most of solution object\n"
     ]
    },
    {
     "name": "stderr",
     "output_type": "stream",
     "text": [
      "Simulating:  80%|████████████████████████████████████████████████████████████████████████████████                    | 1/1 [00:00<00:00,  8.60tau/s ]\n"
     ]
    },
    {
     "name": "stdout",
     "output_type": "stream",
     "text": [
      "Calculating Replacement TDGLData\n",
      "Replacing TDGLData\n",
      "Finished Calculating Ansatz\n"
     ]
    },
    {
     "name": "stderr",
     "output_type": "stream",
     "text": [
      "Simulating: 100%|███████████████████████████████████████████████████████████████████████████████████████████████▉| 250/250 [01:51<00:00,  2.25tau/s ]\n"
     ]
    },
    {
     "name": "stdout",
     "output_type": "stream",
     "text": [
      "Calculating for Field -11.696487665176392\n",
      "No Screening Existing solution not found. Solving.\n",
      "Solving 1 time step to generate most of solution object\n"
     ]
    },
    {
     "name": "stderr",
     "output_type": "stream",
     "text": [
      "Simulating:  80%|████████████████████████████████████████████████████████████████████████████████                    | 1/1 [00:00<00:00,  7.33tau/s ]"
     ]
    },
    {
     "name": "stdout",
     "output_type": "stream",
     "text": [
      "Calculating Replacement TDGLData\n"
     ]
    },
    {
     "name": "stderr",
     "output_type": "stream",
     "text": [
      "\n"
     ]
    },
    {
     "name": "stdout",
     "output_type": "stream",
     "text": [
      "Replacing TDGLData\n",
      "Finished Calculating Ansatz\n"
     ]
    },
    {
     "name": "stderr",
     "output_type": "stream",
     "text": [
      "Simulating: 100%|███████████████████████████████████████████████████████████████████████████████████████████████▉| 250/250 [01:51<00:00,  2.24tau/s ]\n"
     ]
    },
    {
     "name": "stdout",
     "output_type": "stream",
     "text": [
      "Calculating for Field -11.096411384642124\n",
      "No Screening Existing solution not found. Solving.\n",
      "Solving 1 time step to generate most of solution object\n"
     ]
    },
    {
     "name": "stderr",
     "output_type": "stream",
     "text": [
      "Simulating:  80%|████████████████████████████████████████████████████████████████████████████████                    | 1/1 [00:00<00:00,  8.11tau/s ]"
     ]
    },
    {
     "name": "stdout",
     "output_type": "stream",
     "text": [
      "Calculating Replacement TDGLData\n",
      "Replacing TDGLData\n",
      "Finished Calculating Ansatz\n"
     ]
    },
    {
     "name": "stderr",
     "output_type": "stream",
     "text": [
      "\n",
      "Simulating: 100%|███████████████████████████████████████████████████████████████████████████████████████████████▉| 250/250 [01:51<00:00,  2.24tau/s ]\n"
     ]
    },
    {
     "name": "stdout",
     "output_type": "stream",
     "text": [
      "Calculating for Field -10.496335104107857\n",
      "No Screening Existing solution not found. Solving.\n",
      "Solving 1 time step to generate most of solution object\n"
     ]
    },
    {
     "name": "stderr",
     "output_type": "stream",
     "text": [
      "Simulating:  80%|████████████████████████████████████████████████████████████████████████████████                    | 1/1 [00:00<00:00,  7.41tau/s ]"
     ]
    },
    {
     "name": "stdout",
     "output_type": "stream",
     "text": [
      "Calculating Replacement TDGLData\n",
      "Replacing TDGLData\n",
      "Finished Calculating Ansatz\n"
     ]
    },
    {
     "name": "stderr",
     "output_type": "stream",
     "text": [
      "\n",
      "Simulating: 100%|███████████████████████████████████████████████████████████████████████████████████████████████▉| 250/250 [01:53<00:00,  2.20tau/s ]\n"
     ]
    },
    {
     "name": "stdout",
     "output_type": "stream",
     "text": [
      "Calculating for Field -9.89625882357359\n",
      "No Screening Existing solution not found. Solving.\n",
      "Solving 1 time step to generate most of solution object\n"
     ]
    },
    {
     "name": "stderr",
     "output_type": "stream",
     "text": [
      "Simulating:  80%|████████████████████████████████████████████████████████████████████████████████                    | 1/1 [00:00<00:00,  7.13tau/s ]"
     ]
    },
    {
     "name": "stdout",
     "output_type": "stream",
     "text": [
      "Calculating Replacement TDGLData\n",
      "Replacing TDGLData\n",
      "Finished Calculating Ansatz\n"
     ]
    },
    {
     "name": "stderr",
     "output_type": "stream",
     "text": [
      "\n",
      "Simulating: 100%|███████████████████████████████████████████████████████████████████████████████████████████████▉| 250/250 [01:53<00:00,  2.21tau/s ]\n"
     ]
    },
    {
     "name": "stdout",
     "output_type": "stream",
     "text": [
      "Calculating for Field -9.296182543039322\n",
      "No Screening Existing solution not found. Solving.\n",
      "Solving 1 time step to generate most of solution object\n"
     ]
    },
    {
     "name": "stderr",
     "output_type": "stream",
     "text": [
      "Simulating:  80%|████████████████████████████████████████████████████████████████████████████████                    | 1/1 [00:00<00:00,  8.55tau/s ]\n"
     ]
    },
    {
     "name": "stdout",
     "output_type": "stream",
     "text": [
      "Calculating Replacement TDGLData\n",
      "Replacing TDGLData\n",
      "Finished Calculating Ansatz\n"
     ]
    },
    {
     "name": "stderr",
     "output_type": "stream",
     "text": [
      "Simulating: 100%|███████████████████████████████████████████████████████████████████████████████████████████████▉| 250/250 [01:54<00:00,  2.19tau/s ]\n"
     ]
    },
    {
     "name": "stdout",
     "output_type": "stream",
     "text": [
      "Calculating for Field -8.696106262505054\n",
      "No Screening Existing solution not found. Solving.\n",
      "Solving 1 time step to generate most of solution object\n"
     ]
    },
    {
     "name": "stderr",
     "output_type": "stream",
     "text": [
      "Simulating:  80%|████████████████████████████████████████████████████████████████████████████████                    | 1/1 [00:00<00:00,  7.11tau/s ]"
     ]
    },
    {
     "name": "stdout",
     "output_type": "stream",
     "text": [
      "Calculating Replacement TDGLData\n"
     ]
    },
    {
     "name": "stderr",
     "output_type": "stream",
     "text": [
      "\n"
     ]
    },
    {
     "name": "stdout",
     "output_type": "stream",
     "text": [
      "Replacing TDGLData\n",
      "Finished Calculating Ansatz\n"
     ]
    },
    {
     "name": "stderr",
     "output_type": "stream",
     "text": [
      "Simulating: 100%|███████████████████████████████████████████████████████████████████████████████████████████████▉| 250/250 [01:57<00:00,  2.13tau/s ]\n"
     ]
    },
    {
     "name": "stdout",
     "output_type": "stream",
     "text": [
      "Calculating for Field -8.096029981970787\n",
      "No Screening Existing solution not found. Solving.\n",
      "Solving 1 time step to generate most of solution object\n"
     ]
    },
    {
     "name": "stderr",
     "output_type": "stream",
     "text": [
      "Simulating:  80%|████████████████████████████████████████████████████████████████████████████████                    | 1/1 [00:00<00:00,  6.41tau/s ]\n"
     ]
    },
    {
     "name": "stdout",
     "output_type": "stream",
     "text": [
      "Calculating Replacement TDGLData\n",
      "Replacing TDGLData\n",
      "Finished Calculating Ansatz\n"
     ]
    },
    {
     "name": "stderr",
     "output_type": "stream",
     "text": [
      "Simulating: 100%|███████████████████████████████████████████████████████████████████████████████████████████████▉| 250/250 [01:55<00:00,  2.17tau/s ]\n"
     ]
    },
    {
     "name": "stdout",
     "output_type": "stream",
     "text": [
      "Calculating for Field -7.49595370143652\n",
      "No Screening Existing solution not found. Solving.\n",
      "Solving 1 time step to generate most of solution object\n"
     ]
    },
    {
     "name": "stderr",
     "output_type": "stream",
     "text": [
      "Simulating:  80%|████████████████████████████████████████████████████████████████████████████████                    | 1/1 [00:00<00:00,  8.65tau/s ]\n"
     ]
    },
    {
     "name": "stdout",
     "output_type": "stream",
     "text": [
      "Calculating Replacement TDGLData\n",
      "Replacing TDGLData\n",
      "Finished Calculating Ansatz\n"
     ]
    },
    {
     "name": "stderr",
     "output_type": "stream",
     "text": [
      "Simulating: 100%|███████████████████████████████████████████████████████████████████████████████████████████████▉| 250/250 [01:54<00:00,  2.19tau/s ]\n"
     ]
    },
    {
     "name": "stdout",
     "output_type": "stream",
     "text": [
      "Calculating for Field -6.895877420902252\n",
      "No Screening Existing solution not found. Solving.\n",
      "Solving 1 time step to generate most of solution object\n"
     ]
    },
    {
     "name": "stderr",
     "output_type": "stream",
     "text": [
      "Simulating:  80%|████████████████████████████████████████████████████████████████████████████████                    | 1/1 [00:00<00:00,  8.29tau/s ]\n"
     ]
    },
    {
     "name": "stdout",
     "output_type": "stream",
     "text": [
      "Calculating Replacement TDGLData\n",
      "Replacing TDGLData\n",
      "Finished Calculating Ansatz\n"
     ]
    },
    {
     "name": "stderr",
     "output_type": "stream",
     "text": [
      "Simulating: 100%|███████████████████████████████████████████████████████████████████████████████████████████████▉| 250/250 [01:56<00:00,  2.15tau/s ]\n"
     ]
    },
    {
     "name": "stdout",
     "output_type": "stream",
     "text": [
      "Calculating for Field -6.295801140367985\n",
      "No Screening Existing solution not found. Solving.\n",
      "Solving 1 time step to generate most of solution object\n"
     ]
    },
    {
     "name": "stderr",
     "output_type": "stream",
     "text": [
      "Simulating:  80%|████████████████████████████████████████████████████████████████████████████████                    | 1/1 [00:00<00:00,  8.93tau/s ]\n"
     ]
    },
    {
     "name": "stdout",
     "output_type": "stream",
     "text": [
      "Calculating Replacement TDGLData\n",
      "Replacing TDGLData\n",
      "Finished Calculating Ansatz\n"
     ]
    },
    {
     "name": "stderr",
     "output_type": "stream",
     "text": [
      "Simulating: 100%|███████████████████████████████████████████████████████████████████████████████████████████████▉| 250/250 [01:55<00:00,  2.16tau/s ]\n"
     ]
    },
    {
     "name": "stdout",
     "output_type": "stream",
     "text": [
      "Calculating for Field -5.695724859833717\n",
      "No Screening Existing solution not found. Solving.\n",
      "Solving 1 time step to generate most of solution object\n"
     ]
    },
    {
     "name": "stderr",
     "output_type": "stream",
     "text": [
      "Simulating:  80%|████████████████████████████████████████████████████████████████████████████████                    | 1/1 [00:00<00:00,  8.80tau/s ]\n"
     ]
    },
    {
     "name": "stdout",
     "output_type": "stream",
     "text": [
      "Calculating Replacement TDGLData\n",
      "Replacing TDGLData\n",
      "Finished Calculating Ansatz\n"
     ]
    },
    {
     "name": "stderr",
     "output_type": "stream",
     "text": [
      "Simulating: 100%|███████████████████████████████████████████████████████████████████████████████████████████████▉| 250/250 [01:55<00:00,  2.16tau/s ]\n"
     ]
    },
    {
     "name": "stdout",
     "output_type": "stream",
     "text": [
      "Calculating for Field -5.09564857929945\n",
      "No Screening Existing solution not found. Solving.\n",
      "Solving 1 time step to generate most of solution object\n"
     ]
    },
    {
     "name": "stderr",
     "output_type": "stream",
     "text": [
      "Simulating:  80%|████████████████████████████████████████████████████████████████████████████████                    | 1/1 [00:00<00:00,  8.95tau/s ]\n"
     ]
    },
    {
     "name": "stdout",
     "output_type": "stream",
     "text": [
      "Calculating Replacement TDGLData\n",
      "Replacing TDGLData\n",
      "Finished Calculating Ansatz\n"
     ]
    },
    {
     "name": "stderr",
     "output_type": "stream",
     "text": [
      "Simulating: 100%|███████████████████████████████████████████████████████████████████████████████████████████████▉| 250/250 [01:54<00:00,  2.18tau/s ]\n"
     ]
    },
    {
     "name": "stdout",
     "output_type": "stream",
     "text": [
      "Calculating for Field -4.4955722987651825\n",
      "No Screening Existing solution not found. Solving.\n",
      "Solving 1 time step to generate most of solution object\n"
     ]
    },
    {
     "name": "stderr",
     "output_type": "stream",
     "text": [
      "Simulating:  80%|████████████████████████████████████████████████████████████████████████████████                    | 1/1 [00:00<00:00,  7.06tau/s ]"
     ]
    },
    {
     "name": "stdout",
     "output_type": "stream",
     "text": [
      "Calculating Replacement TDGLData\n",
      "Replacing TDGLData\n",
      "Finished Calculating Ansatz\n"
     ]
    },
    {
     "name": "stderr",
     "output_type": "stream",
     "text": [
      "\n",
      "Simulating: 100%|███████████████████████████████████████████████████████████████████████████████████████████████▉| 250/250 [01:57<00:00,  2.12tau/s ]\n"
     ]
    },
    {
     "name": "stdout",
     "output_type": "stream",
     "text": [
      "Calculating for Field -3.895496018230915\n",
      "No Screening Existing solution not found. Solving.\n",
      "Solving 1 time step to generate most of solution object\n"
     ]
    },
    {
     "name": "stderr",
     "output_type": "stream",
     "text": [
      "Simulating:  80%|████████████████████████████████████████████████████████████████████████████████                    | 1/1 [00:00<00:00,  7.33tau/s ]\n"
     ]
    },
    {
     "name": "stdout",
     "output_type": "stream",
     "text": [
      "Calculating Replacement TDGLData\n",
      "Replacing TDGLData\n",
      "Finished Calculating Ansatz\n"
     ]
    },
    {
     "name": "stderr",
     "output_type": "stream",
     "text": [
      "Simulating: 100%|███████████████████████████████████████████████████████████████████████████████████████████████▉| 250/250 [01:58<00:00,  2.11tau/s ]\n"
     ]
    },
    {
     "name": "stdout",
     "output_type": "stream",
     "text": [
      "Calculating for Field -3.2954197376966476\n",
      "No Screening Existing solution not found. Solving.\n",
      "Solving 1 time step to generate most of solution object\n"
     ]
    },
    {
     "name": "stderr",
     "output_type": "stream",
     "text": [
      "Simulating:  80%|████████████████████████████████████████████████████████████████████████████████                    | 1/1 [00:00<00:00,  8.67tau/s ]\n"
     ]
    },
    {
     "name": "stdout",
     "output_type": "stream",
     "text": [
      "Calculating Replacement TDGLData\n",
      "Replacing TDGLData\n",
      "Finished Calculating Ansatz\n"
     ]
    },
    {
     "name": "stderr",
     "output_type": "stream",
     "text": [
      "Simulating: 100%|███████████████████████████████████████████████████████████████████████████████████████████████▉| 250/250 [01:55<00:00,  2.16tau/s ]\n"
     ]
    },
    {
     "name": "stdout",
     "output_type": "stream",
     "text": [
      "Calculating for Field -2.69534345716238\n",
      "No Screening Existing solution not found. Solving.\n",
      "Solving 1 time step to generate most of solution object\n"
     ]
    },
    {
     "name": "stderr",
     "output_type": "stream",
     "text": [
      "Simulating:  80%|████████████████████████████████████████████████████████████████████████████████                    | 1/1 [00:00<00:00,  8.55tau/s ]"
     ]
    },
    {
     "name": "stdout",
     "output_type": "stream",
     "text": [
      "Calculating Replacement TDGLData\n",
      "Replacing TDGLData\n",
      "Finished Calculating Ansatz\n"
     ]
    },
    {
     "name": "stderr",
     "output_type": "stream",
     "text": [
      "\n",
      "Simulating: 100%|███████████████████████████████████████████████████████████████████████████████████████████████▉| 250/250 [01:57<00:00,  2.12tau/s ]\n"
     ]
    },
    {
     "name": "stdout",
     "output_type": "stream",
     "text": [
      "Calculating for Field -2.095267176628113\n",
      "No Screening Existing solution not found. Solving.\n",
      "Solving 1 time step to generate most of solution object\n"
     ]
    },
    {
     "name": "stderr",
     "output_type": "stream",
     "text": [
      "Simulating:  80%|████████████████████████████████████████████████████████████████████████████████                    | 1/1 [00:00<00:00,  9.42tau/s ]\n"
     ]
    },
    {
     "name": "stdout",
     "output_type": "stream",
     "text": [
      "Calculating Replacement TDGLData\n",
      "Replacing TDGLData\n",
      "Finished Calculating Ansatz\n"
     ]
    },
    {
     "name": "stderr",
     "output_type": "stream",
     "text": [
      "Simulating: 100%|███████████████████████████████████████████████████████████████████████████████████████████████▉| 250/250 [01:58<00:00,  2.11tau/s ]\n"
     ]
    },
    {
     "name": "stdout",
     "output_type": "stream",
     "text": [
      "Calculating for Field -1.4951908960938454\n",
      "No Screening Existing solution not found. Solving.\n",
      "Solving 1 time step to generate most of solution object\n"
     ]
    },
    {
     "name": "stderr",
     "output_type": "stream",
     "text": [
      "Simulating:  80%|████████████████████████████████████████████████████████████████████████████████                    | 1/1 [00:00<00:00,  8.27tau/s ]"
     ]
    },
    {
     "name": "stdout",
     "output_type": "stream",
     "text": [
      "Calculating Replacement TDGLData\n",
      "Replacing TDGLData\n",
      "Finished Calculating Ansatz\n"
     ]
    },
    {
     "name": "stderr",
     "output_type": "stream",
     "text": [
      "\n",
      "Simulating: 100%|███████████████████████████████████████████████████████████████████████████████████████████████▉| 250/250 [01:58<00:00,  2.11tau/s ]\n"
     ]
    },
    {
     "name": "stdout",
     "output_type": "stream",
     "text": [
      "Calculating for Field -0.8951146155595779\n",
      "No Screening Existing solution not found. Solving.\n",
      "Solving 1 time step to generate most of solution object\n"
     ]
    },
    {
     "name": "stderr",
     "output_type": "stream",
     "text": [
      "Simulating:  80%|████████████████████████████████████████████████████████████████████████████████                    | 1/1 [00:00<00:00,  8.94tau/s ]\n"
     ]
    },
    {
     "name": "stdout",
     "output_type": "stream",
     "text": [
      "Calculating Replacement TDGLData\n",
      "Replacing TDGLData\n",
      "Finished Calculating Ansatz\n"
     ]
    },
    {
     "name": "stderr",
     "output_type": "stream",
     "text": [
      "Simulating: 100%|███████████████████████████████████████████████████████████████████████████████████████████████▉| 250/250 [01:57<00:00,  2.13tau/s ]\n"
     ]
    },
    {
     "name": "stdout",
     "output_type": "stream",
     "text": [
      "Calculating for Field -0.2950383350253105\n",
      "No Screening Existing solution not found. Solving.\n",
      "Solving 1 time step to generate most of solution object\n"
     ]
    },
    {
     "name": "stderr",
     "output_type": "stream",
     "text": [
      "Simulating:  80%|████████████████████████████████████████████████████████████████████████████████                    | 1/1 [00:00<00:00,  8.78tau/s ]\n"
     ]
    },
    {
     "name": "stdout",
     "output_type": "stream",
     "text": [
      "Calculating Replacement TDGLData\n",
      "Replacing TDGLData\n",
      "Finished Calculating Ansatz\n"
     ]
    },
    {
     "name": "stderr",
     "output_type": "stream",
     "text": [
      "Simulating: 100%|███████████████████████████████████████████████████████████████████████████████████████████████▉| 250/250 [01:58<00:00,  2.11tau/s ]\n"
     ]
    },
    {
     "name": "stdout",
     "output_type": "stream",
     "text": [
      "Calculating for Field 0.3050379455089569\n",
      "No Screening Existing solution not found. Solving.\n",
      "Solving 1 time step to generate most of solution object\n"
     ]
    },
    {
     "name": "stderr",
     "output_type": "stream",
     "text": [
      "Simulating:  80%|████████████████████████████████████████████████████████████████████████████████                    | 1/1 [00:00<00:00,  8.53tau/s ]\n"
     ]
    },
    {
     "name": "stdout",
     "output_type": "stream",
     "text": [
      "Calculating Replacement TDGLData\n",
      "Replacing TDGLData\n",
      "Finished Calculating Ansatz\n"
     ]
    },
    {
     "name": "stderr",
     "output_type": "stream",
     "text": [
      "Simulating: 100%|███████████████████████████████████████████████████████████████████████████████████████████████▉| 250/250 [01:57<00:00,  2.13tau/s ]\n"
     ]
    },
    {
     "name": "stdout",
     "output_type": "stream",
     "text": [
      "Calculating for Field 0.9051142260432243\n",
      "No Screening Existing solution not found. Solving.\n",
      "Solving 1 time step to generate most of solution object\n"
     ]
    },
    {
     "name": "stderr",
     "output_type": "stream",
     "text": [
      "Simulating:  80%|████████████████████████████████████████████████████████████████████████████████                    | 1/1 [00:00<00:00,  8.19tau/s ]\n"
     ]
    },
    {
     "name": "stdout",
     "output_type": "stream",
     "text": [
      "Calculating Replacement TDGLData\n",
      "Replacing TDGLData\n",
      "Finished Calculating Ansatz\n"
     ]
    },
    {
     "name": "stderr",
     "output_type": "stream",
     "text": [
      "Simulating: 100%|███████████████████████████████████████████████████████████████████████████████████████████████▉| 250/250 [01:57<00:00,  2.12tau/s ]\n"
     ]
    },
    {
     "name": "stdout",
     "output_type": "stream",
     "text": [
      "Calculating for Field 1.5051905065774918\n",
      "No Screening Existing solution not found. Solving.\n",
      "Solving 1 time step to generate most of solution object\n"
     ]
    },
    {
     "name": "stderr",
     "output_type": "stream",
     "text": [
      "Simulating:  80%|████████████████████████████████████████████████████████████████████████████████                    | 1/1 [00:00<00:00,  8.51tau/s ]\n"
     ]
    },
    {
     "name": "stdout",
     "output_type": "stream",
     "text": [
      "Calculating Replacement TDGLData\n",
      "Replacing TDGLData\n",
      "Finished Calculating Ansatz\n"
     ]
    },
    {
     "name": "stderr",
     "output_type": "stream",
     "text": [
      "Simulating: 100%|███████████████████████████████████████████████████████████████████████████████████████████████▉| 250/250 [01:56<00:00,  2.14tau/s ]\n"
     ]
    },
    {
     "name": "stdout",
     "output_type": "stream",
     "text": [
      "Calculating for Field 2.105266787111759\n",
      "No Screening Existing solution not found. Solving.\n",
      "Solving 1 time step to generate most of solution object\n"
     ]
    },
    {
     "name": "stderr",
     "output_type": "stream",
     "text": [
      "Simulating:  80%|████████████████████████████████████████████████████████████████████████████████                    | 1/1 [00:00<00:00,  9.24tau/s ]\n"
     ]
    },
    {
     "name": "stdout",
     "output_type": "stream",
     "text": [
      "Calculating Replacement TDGLData\n",
      "Replacing TDGLData\n",
      "Finished Calculating Ansatz\n"
     ]
    },
    {
     "name": "stderr",
     "output_type": "stream",
     "text": [
      "Simulating: 100%|███████████████████████████████████████████████████████████████████████████████████████████████▉| 250/250 [01:57<00:00,  2.12tau/s ]\n"
     ]
    },
    {
     "name": "stdout",
     "output_type": "stream",
     "text": [
      "Calculating for Field 2.7053430676460266\n",
      "No Screening Existing solution not found. Solving.\n",
      "Solving 1 time step to generate most of solution object\n"
     ]
    },
    {
     "name": "stderr",
     "output_type": "stream",
     "text": [
      "Simulating:  80%|████████████████████████████████████████████████████████████████████████████████                    | 1/1 [00:00<00:00,  8.57tau/s ]\n"
     ]
    },
    {
     "name": "stdout",
     "output_type": "stream",
     "text": [
      "Calculating Replacement TDGLData\n",
      "Replacing TDGLData\n",
      "Finished Calculating Ansatz\n"
     ]
    },
    {
     "name": "stderr",
     "output_type": "stream",
     "text": [
      "Simulating: 100%|███████████████████████████████████████████████████████████████████████████████████████████████▉| 250/250 [02:02<00:00,  2.05tau/s ]\n"
     ]
    },
    {
     "name": "stdout",
     "output_type": "stream",
     "text": [
      "Calculating for Field 3.305419348180294\n",
      "No Screening Existing solution not found. Solving.\n",
      "Solving 1 time step to generate most of solution object\n"
     ]
    },
    {
     "name": "stderr",
     "output_type": "stream",
     "text": [
      "Simulating:  80%|████████████████████████████████████████████████████████████████████████████████                    | 1/1 [00:00<00:00,  9.06tau/s ]\n"
     ]
    },
    {
     "name": "stdout",
     "output_type": "stream",
     "text": [
      "Calculating Replacement TDGLData\n",
      "Replacing TDGLData\n",
      "Finished Calculating Ansatz\n"
     ]
    },
    {
     "name": "stderr",
     "output_type": "stream",
     "text": [
      "Simulating: 100%|███████████████████████████████████████████████████████████████████████████████████████████████▉| 250/250 [01:57<00:00,  2.13tau/s ]\n"
     ]
    },
    {
     "name": "stdout",
     "output_type": "stream",
     "text": [
      "Calculating for Field 3.9054956287145615\n",
      "No Screening Existing solution not found. Solving.\n",
      "Solving 1 time step to generate most of solution object\n"
     ]
    },
    {
     "name": "stderr",
     "output_type": "stream",
     "text": [
      "Simulating:  80%|████████████████████████████████████████████████████████████████████████████████                    | 1/1 [00:00<00:00,  6.08tau/s ]\n"
     ]
    },
    {
     "name": "stdout",
     "output_type": "stream",
     "text": [
      "Calculating Replacement TDGLData\n",
      "Replacing TDGLData\n",
      "Finished Calculating Ansatz\n"
     ]
    },
    {
     "name": "stderr",
     "output_type": "stream",
     "text": [
      "Simulating: 100%|███████████████████████████████████████████████████████████████████████████████████████████████▉| 250/250 [01:57<00:00,  2.12tau/s ]\n"
     ]
    },
    {
     "name": "stdout",
     "output_type": "stream",
     "text": [
      "Calculating for Field 4.505571909248829\n",
      "No Screening Existing solution not found. Solving.\n",
      "Solving 1 time step to generate most of solution object\n"
     ]
    },
    {
     "name": "stderr",
     "output_type": "stream",
     "text": [
      "Simulating:  80%|████████████████████████████████████████████████████████████████████████████████                    | 1/1 [00:00<00:00,  5.55tau/s ]\n"
     ]
    },
    {
     "name": "stdout",
     "output_type": "stream",
     "text": [
      "Calculating Replacement TDGLData\n",
      "Replacing TDGLData\n",
      "Finished Calculating Ansatz\n"
     ]
    },
    {
     "name": "stderr",
     "output_type": "stream",
     "text": [
      "Simulating: 100%|███████████████████████████████████████████████████████████████████████████████████████████████▉| 250/250 [01:59<00:00,  2.10tau/s ]\n"
     ]
    },
    {
     "name": "stdout",
     "output_type": "stream",
     "text": [
      "Calculating for Field 5.105648189783096\n",
      "No Screening Existing solution not found. Solving.\n",
      "Solving 1 time step to generate most of solution object\n"
     ]
    },
    {
     "name": "stderr",
     "output_type": "stream",
     "text": [
      "Simulating:  80%|████████████████████████████████████████████████████████████████████████████████                    | 1/1 [00:00<00:00,  8.30tau/s ]\n"
     ]
    },
    {
     "name": "stdout",
     "output_type": "stream",
     "text": [
      "Calculating Replacement TDGLData\n",
      "Replacing TDGLData\n",
      "Finished Calculating Ansatz\n"
     ]
    },
    {
     "name": "stderr",
     "output_type": "stream",
     "text": [
      "Simulating: 100%|███████████████████████████████████████████████████████████████████████████████████████████████▉| 250/250 [01:55<00:00,  2.17tau/s ]\n"
     ]
    },
    {
     "name": "stdout",
     "output_type": "stream",
     "text": [
      "Calculating for Field 5.705724470317364\n",
      "No Screening Existing solution not found. Solving.\n",
      "Solving 1 time step to generate most of solution object\n"
     ]
    },
    {
     "name": "stderr",
     "output_type": "stream",
     "text": [
      "Simulating:  80%|████████████████████████████████████████████████████████████████████████████████                    | 1/1 [00:00<00:00,  7.87tau/s ]"
     ]
    },
    {
     "name": "stdout",
     "output_type": "stream",
     "text": [
      "Calculating Replacement TDGLData\n",
      "Replacing TDGLData\n",
      "Finished Calculating Ansatz\n"
     ]
    },
    {
     "name": "stderr",
     "output_type": "stream",
     "text": [
      "\n",
      "Simulating: 100%|███████████████████████████████████████████████████████████████████████████████████████████████▉| 250/250 [02:01<00:00,  2.06tau/s ]\n"
     ]
    },
    {
     "name": "stdout",
     "output_type": "stream",
     "text": [
      "Calculating for Field 6.305800750851631\n",
      "No Screening Existing solution not found. Solving.\n",
      "Solving 1 time step to generate most of solution object\n"
     ]
    },
    {
     "name": "stderr",
     "output_type": "stream",
     "text": [
      "Simulating:  80%|████████████████████████████████████████████████████████████████████████████████                    | 1/1 [00:00<00:00,  7.37tau/s ]"
     ]
    },
    {
     "name": "stdout",
     "output_type": "stream",
     "text": [
      "Calculating Replacement TDGLData\n",
      "Replacing TDGLData\n",
      "Finished Calculating Ansatz\n"
     ]
    },
    {
     "name": "stderr",
     "output_type": "stream",
     "text": [
      "\n",
      "Simulating: 100%|███████████████████████████████████████████████████████████████████████████████████████████████▉| 250/250 [01:49<00:00,  2.28tau/s ]\n"
     ]
    },
    {
     "name": "stdout",
     "output_type": "stream",
     "text": [
      "Calculating for Field 6.905877031385899\n",
      "No Screening Existing solution not found. Solving.\n",
      "Solving 1 time step to generate most of solution object\n"
     ]
    },
    {
     "name": "stderr",
     "output_type": "stream",
     "text": [
      "Simulating:  80%|████████████████████████████████████████████████████████████████████████████████                    | 1/1 [00:00<00:00,  9.22tau/s ]\n"
     ]
    },
    {
     "name": "stdout",
     "output_type": "stream",
     "text": [
      "Calculating Replacement TDGLData\n",
      "Replacing TDGLData\n",
      "Finished Calculating Ansatz\n"
     ]
    },
    {
     "name": "stderr",
     "output_type": "stream",
     "text": [
      "Simulating: 100%|███████████████████████████████████████████████████████████████████████████████████████████████▉| 250/250 [01:48<00:00,  2.31tau/s ]\n"
     ]
    },
    {
     "name": "stdout",
     "output_type": "stream",
     "text": [
      "Calculating for Field 7.505953311920166\n",
      "No Screening Existing solution not found. Solving.\n",
      "Solving 1 time step to generate most of solution object\n"
     ]
    },
    {
     "name": "stderr",
     "output_type": "stream",
     "text": [
      "Simulating:  80%|████████████████████████████████████████████████████████████████████████████████                    | 1/1 [00:00<00:00,  8.77tau/s ]"
     ]
    },
    {
     "name": "stdout",
     "output_type": "stream",
     "text": [
      "Calculating Replacement TDGLData\n",
      "Replacing TDGLData\n",
      "Finished Calculating Ansatz\n"
     ]
    },
    {
     "name": "stderr",
     "output_type": "stream",
     "text": [
      "\n",
      "Simulating: 100%|███████████████████████████████████████████████████████████████████████████████████████████████▉| 250/250 [01:50<00:00,  2.27tau/s ]\n"
     ]
    },
    {
     "name": "stdout",
     "output_type": "stream",
     "text": [
      "Calculating for Field 8.106029592454433\n",
      "No Screening Existing solution not found. Solving.\n",
      "Solving 1 time step to generate most of solution object\n"
     ]
    },
    {
     "name": "stderr",
     "output_type": "stream",
     "text": [
      "Simulating:  80%|████████████████████████████████████████████████████████████████████████████████                    | 1/1 [00:00<00:00,  9.15tau/s ]\n"
     ]
    },
    {
     "name": "stdout",
     "output_type": "stream",
     "text": [
      "Calculating Replacement TDGLData\n",
      "Replacing TDGLData\n",
      "Finished Calculating Ansatz\n"
     ]
    },
    {
     "name": "stderr",
     "output_type": "stream",
     "text": [
      "Simulating: 100%|███████████████████████████████████████████████████████████████████████████████████████████████▉| 250/250 [01:47<00:00,  2.33tau/s ]\n"
     ]
    },
    {
     "name": "stdout",
     "output_type": "stream",
     "text": [
      "Calculating for Field 8.7061058729887\n",
      "No Screening Existing solution not found. Solving.\n",
      "Solving 1 time step to generate most of solution object\n"
     ]
    },
    {
     "name": "stderr",
     "output_type": "stream",
     "text": [
      "Simulating:  80%|████████████████████████████████████████████████████████████████████████████████                    | 1/1 [00:00<00:00,  8.09tau/s ]\n"
     ]
    },
    {
     "name": "stdout",
     "output_type": "stream",
     "text": [
      "Calculating Replacement TDGLData\n",
      "Replacing TDGLData\n",
      "Finished Calculating Ansatz\n"
     ]
    },
    {
     "name": "stderr",
     "output_type": "stream",
     "text": [
      "Simulating: 100%|███████████████████████████████████████████████████████████████████████████████████████████████▉| 250/250 [01:48<00:00,  2.31tau/s ]\n"
     ]
    },
    {
     "name": "stdout",
     "output_type": "stream",
     "text": [
      "Calculating for Field 9.306182153522968\n",
      "No Screening Existing solution not found. Solving.\n",
      "Solving 1 time step to generate most of solution object\n"
     ]
    },
    {
     "name": "stderr",
     "output_type": "stream",
     "text": [
      "Simulating:  80%|████████████████████████████████████████████████████████████████████████████████                    | 1/1 [00:00<00:00,  8.57tau/s ]\n"
     ]
    },
    {
     "name": "stdout",
     "output_type": "stream",
     "text": [
      "Calculating Replacement TDGLData\n",
      "Replacing TDGLData\n",
      "Finished Calculating Ansatz\n"
     ]
    },
    {
     "name": "stderr",
     "output_type": "stream",
     "text": [
      "Simulating: 100%|███████████████████████████████████████████████████████████████████████████████████████████████▉| 250/250 [01:49<00:00,  2.29tau/s ]\n"
     ]
    },
    {
     "name": "stdout",
     "output_type": "stream",
     "text": [
      "Calculating for Field 9.906258434057236\n",
      "No Screening Existing solution not found. Solving.\n",
      "Solving 1 time step to generate most of solution object\n"
     ]
    },
    {
     "name": "stderr",
     "output_type": "stream",
     "text": [
      "Simulating:  80%|████████████████████████████████████████████████████████████████████████████████                    | 1/1 [00:00<00:00,  9.24tau/s ]\n"
     ]
    },
    {
     "name": "stdout",
     "output_type": "stream",
     "text": [
      "Calculating Replacement TDGLData\n",
      "Replacing TDGLData\n",
      "Finished Calculating Ansatz\n"
     ]
    },
    {
     "name": "stderr",
     "output_type": "stream",
     "text": [
      "Simulating: 100%|███████████████████████████████████████████████████████████████████████████████████████████████▉| 250/250 [01:47<00:00,  2.32tau/s ]\n"
     ]
    },
    {
     "name": "stdout",
     "output_type": "stream",
     "text": [
      "Calculating for Field 10.506334714591503\n",
      "No Screening Existing solution not found. Solving.\n",
      "Solving 1 time step to generate most of solution object\n"
     ]
    },
    {
     "name": "stderr",
     "output_type": "stream",
     "text": [
      "Simulating:  80%|████████████████████████████████████████████████████████████████████████████████                    | 1/1 [00:00<00:00,  8.78tau/s ]\n"
     ]
    },
    {
     "name": "stdout",
     "output_type": "stream",
     "text": [
      "Calculating Replacement TDGLData\n",
      "Replacing TDGLData\n",
      "Finished Calculating Ansatz\n"
     ]
    },
    {
     "name": "stderr",
     "output_type": "stream",
     "text": [
      "Simulating: 100%|███████████████████████████████████████████████████████████████████████████████████████████████▉| 250/250 [01:46<00:00,  2.34tau/s ]\n"
     ]
    },
    {
     "name": "stdout",
     "output_type": "stream",
     "text": [
      "Calculating for Field 11.10641099512577\n",
      "No Screening Existing solution not found. Solving.\n",
      "Solving 1 time step to generate most of solution object\n"
     ]
    },
    {
     "name": "stderr",
     "output_type": "stream",
     "text": [
      "Simulating:  80%|████████████████████████████████████████████████████████████████████████████████                    | 1/1 [00:00<00:00,  7.85tau/s ]"
     ]
    },
    {
     "name": "stdout",
     "output_type": "stream",
     "text": [
      "Calculating Replacement TDGLData\n",
      "Replacing TDGLData\n",
      "Finished Calculating Ansatz\n"
     ]
    },
    {
     "name": "stderr",
     "output_type": "stream",
     "text": [
      "\n",
      "Simulating: 100%|███████████████████████████████████████████████████████████████████████████████████████████████▉| 250/250 [01:47<00:00,  2.33tau/s ]\n"
     ]
    },
    {
     "name": "stdout",
     "output_type": "stream",
     "text": [
      "Calculating for Field 11.706487275660038\n",
      "No Screening Existing solution not found. Solving.\n",
      "Solving 1 time step to generate most of solution object\n"
     ]
    },
    {
     "name": "stderr",
     "output_type": "stream",
     "text": [
      "Simulating:  80%|████████████████████████████████████████████████████████████████████████████████                    | 1/1 [00:00<00:00,  9.92tau/s ]\n"
     ]
    },
    {
     "name": "stdout",
     "output_type": "stream",
     "text": [
      "Calculating Replacement TDGLData\n",
      "Replacing TDGLData\n",
      "Finished Calculating Ansatz\n"
     ]
    },
    {
     "name": "stderr",
     "output_type": "stream",
     "text": [
      "Simulating: 100%|███████████████████████████████████████████████████████████████████████████████████████████████▉| 250/250 [01:46<00:00,  2.35tau/s ]\n"
     ]
    },
    {
     "name": "stdout",
     "output_type": "stream",
     "text": [
      "Calculating for Field 12.306563556194305\n",
      "No Screening Existing solution not found. Solving.\n",
      "Solving 1 time step to generate most of solution object\n"
     ]
    },
    {
     "name": "stderr",
     "output_type": "stream",
     "text": [
      "Simulating:  80%|████████████████████████████████████████████████████████████████████████████████                    | 1/1 [00:00<00:00,  8.46tau/s ]\n"
     ]
    },
    {
     "name": "stdout",
     "output_type": "stream",
     "text": [
      "Calculating Replacement TDGLData\n",
      "Replacing TDGLData\n",
      "Finished Calculating Ansatz\n"
     ]
    },
    {
     "name": "stderr",
     "output_type": "stream",
     "text": [
      "Simulating: 100%|███████████████████████████████████████████████████████████████████████████████████████████████▉| 250/250 [01:47<00:00,  2.33tau/s ]\n"
     ]
    },
    {
     "name": "stdout",
     "output_type": "stream",
     "text": [
      "Calculating for Field 12.906639836728573\n",
      "No Screening Existing solution not found. Solving.\n",
      "Solving 1 time step to generate most of solution object\n"
     ]
    },
    {
     "name": "stderr",
     "output_type": "stream",
     "text": [
      "Simulating:  80%|████████████████████████████████████████████████████████████████████████████████                    | 1/1 [00:00<00:00,  8.92tau/s ]\n"
     ]
    },
    {
     "name": "stdout",
     "output_type": "stream",
     "text": [
      "Calculating Replacement TDGLData\n",
      "Replacing TDGLData\n",
      "Finished Calculating Ansatz\n"
     ]
    },
    {
     "name": "stderr",
     "output_type": "stream",
     "text": [
      "Simulating: 100%|███████████████████████████████████████████████████████████████████████████████████████████████▉| 250/250 [01:42<00:00,  2.44tau/s ]\n"
     ]
    },
    {
     "name": "stdout",
     "output_type": "stream",
     "text": [
      "Calculating for Field 13.50671611726284\n",
      "No Screening Existing solution not found. Solving.\n",
      "Solving 1 time step to generate most of solution object\n"
     ]
    },
    {
     "name": "stderr",
     "output_type": "stream",
     "text": [
      "Simulating:  80%|████████████████████████████████████████████████████████████████████████████████                    | 1/1 [00:00<00:00,  8.55tau/s ]"
     ]
    },
    {
     "name": "stdout",
     "output_type": "stream",
     "text": [
      "Calculating Replacement TDGLData\n",
      "Replacing TDGLData\n",
      "Finished Calculating Ansatz\n"
     ]
    },
    {
     "name": "stderr",
     "output_type": "stream",
     "text": [
      "\n",
      "Simulating: 100%|███████████████████████████████████████████████████████████████████████████████████████████████▉| 250/250 [01:41<00:00,  2.46tau/s ]\n"
     ]
    },
    {
     "name": "stdout",
     "output_type": "stream",
     "text": [
      "Calculating for Field 14.106792397797108\n",
      "No Screening Existing solution not found. Solving.\n",
      "Solving 1 time step to generate most of solution object\n"
     ]
    },
    {
     "name": "stderr",
     "output_type": "stream",
     "text": [
      "Simulating:  80%|████████████████████████████████████████████████████████████████████████████████                    | 1/1 [00:00<00:00,  7.56tau/s ]"
     ]
    },
    {
     "name": "stdout",
     "output_type": "stream",
     "text": [
      "Calculating Replacement TDGLData\n"
     ]
    },
    {
     "name": "stderr",
     "output_type": "stream",
     "text": [
      "\n"
     ]
    },
    {
     "name": "stdout",
     "output_type": "stream",
     "text": [
      "Replacing TDGLData\n",
      "Finished Calculating Ansatz\n"
     ]
    },
    {
     "name": "stderr",
     "output_type": "stream",
     "text": [
      "Simulating: 100%|███████████████████████████████████████████████████████████████████████████████████████████████▉| 250/250 [01:40<00:00,  2.48tau/s ]\n"
     ]
    },
    {
     "name": "stdout",
     "output_type": "stream",
     "text": [
      "Calculating for Field 14.706868678331375\n",
      "No Screening Existing solution not found. Solving.\n",
      "Solving 1 time step to generate most of solution object\n"
     ]
    },
    {
     "name": "stderr",
     "output_type": "stream",
     "text": [
      "Simulating:  80%|████████████████████████████████████████████████████████████████████████████████                    | 1/1 [00:00<00:00,  8.78tau/s ]\n"
     ]
    },
    {
     "name": "stdout",
     "output_type": "stream",
     "text": [
      "Calculating Replacement TDGLData\n",
      "Replacing TDGLData\n",
      "Finished Calculating Ansatz\n"
     ]
    },
    {
     "name": "stderr",
     "output_type": "stream",
     "text": [
      "Simulating: 100%|███████████████████████████████████████████████████████████████████████████████████████████████▉| 250/250 [01:38<00:00,  2.53tau/s ]\n"
     ]
    }
   ],
   "source": [
    "def get_newest_file(directory):\n",
    "    files = glob.glob(os.path.join(directory, '*'))\n",
    "    return max(files, key=os.path.getmtime)\n",
    "\n",
    "def get_vortex_count(solution):\n",
    "    solution.solve_step = -1\n",
    "    phases = solution.boundary_phases()[\"square_hole\"].phases\n",
    "    vortex_count = ((phases[-1]-phases[0])/(2*np.pi))\n",
    "    return vortex_count\n",
    "\n",
    "# Calculate New Solutions\n",
    "simulation_b_count = 50\n",
    "video_counter = 0\n",
    "for initial_vortex_count, b_min, b_max in simulation_ranges:\n",
    "    # Skip some simulations for now.\n",
    "#     if(initial_vortex_count < -4 or initial_vortex_count > 4):\n",
    "#         continue\n",
    "    for field_strength in np.linspace(b_min*1000, b_max*1000, simulation_b_count): #Convert B field to mT\n",
    "        save_file=os.getcwd() + \"/solutions/\" + project_name + \"/no_screening/\" + \"field_\" + str(field_strength) + \"_vortex_\" + str(initial_vortex_count) + \".h5\"\n",
    "        calculate_solution(field_strength, initial_vortex_count, save_file)\n",
    "        solution = tdgl.Solution.from_hdf5(save_file)\n",
    "        if(video_counter%5==0):\n",
    "            solution_name = get_newest_file(os.getcwd() + \"/solutions/\" + project_name + \"/no_screening/\").split(\"\\\\\")[-1]\n",
    "            try:\n",
    "                #Generate the video if it doesn't exit\n",
    "                video_filename = os.getcwd() + \"/videos/\" + project_name + \"/no_screening/\" + solution_name[:-3] + \".mp4\"\n",
    "                if not(os.path.exists(video_filename)):\n",
    "                    pass\n",
    "#                     make_video_from_solution(solution, output_file=video_filename)\n",
    "            except FileNotFoundError as e:\n",
    "                print(\"Error Loading Solution: \" + solution)\n",
    "                print(e)\n",
    "\n",
    "        destination_file = os.getcwd() + \"/solutions/\" + project_name + \"/stable_no_screening/\" + \"field_\" + str(field_strength) + \"_vortex_\" + str(initial_vortex_count) + \".h5\"\n",
    "        shutil.copy(save_file, destination_file)\n",
    "        video_counter += 1\n"
   ]
  },
  {
   "cell_type": "code",
   "execution_count": 97,
   "id": "7ab56972",
   "metadata": {
    "scrolled": true
   },
   "outputs": [
    {
     "name": "stdout",
     "output_type": "stream",
     "text": [
      "Using non_screened seed solution\n",
      "File with the closest field: field_-0.2950383350253105_vortex_0.h5\n",
      "Closest field value: field_-0.2950383350253105_vortex_0.h5\n",
      "Calculating -0.2950383350253105, 0 using field_-0.2950383350253105_vortex_0.h5\n",
      "Screening solution not found. Solving.\n"
     ]
    },
    {
     "name": "stderr",
     "output_type": "stream",
     "text": [
      "Simulating: 100%|█████████████████████████████████████████████████████████████████████████████████████████████████▊| 10/10 [01:05<00:00,  6.56s/tau ]\n"
     ]
    },
    {
     "name": "stdout",
     "output_type": "stream",
     "text": [
      "'square_hole'\n",
      "Using non_screened seed solution\n",
      "File with the closest field: field_0.3050379455089569_vortex_0.h5\n",
      "Closest field value: field_0.3050379455089569_vortex_0.h5\n",
      "Calculating 0.3050379455089569, 0 using field_0.3050379455089569_vortex_0.h5\n",
      "Screening solution not found. Solving.\n"
     ]
    },
    {
     "name": "stderr",
     "output_type": "stream",
     "text": [
      "Simulating: 100%|█████████████████████████████████████████████████████████████████████████████████████████████████▊| 10/10 [01:03<00:00,  6.39s/tau ]\n"
     ]
    },
    {
     "name": "stdout",
     "output_type": "stream",
     "text": [
      "'square_hole'\n",
      "Using non_screened seed solution\n",
      "File with the closest field: field_-0.8951146155595779_vortex_0.h5\n",
      "Closest field value: field_-0.8951146155595779_vortex_0.h5\n",
      "Calculating -0.8951146155595779, 0 using field_-0.8951146155595779_vortex_0.h5\n",
      "Screening solution not found. Solving.\n"
     ]
    },
    {
     "name": "stderr",
     "output_type": "stream",
     "text": [
      "Simulating:  99%|█████████████████████████████████████████████████████████████████████████████████████████████████ | 10/10 [00:59<00:00,  6.05s/tau ]\n"
     ]
    },
    {
     "name": "stdout",
     "output_type": "stream",
     "text": [
      "'square_hole'\n",
      "Using non_screened seed solution\n",
      "File with the closest field: field_0.9051142260432243_vortex_0.h5\n",
      "Closest field value: field_0.9051142260432243_vortex_0.h5\n",
      "Calculating 0.9051142260432243, 0 using field_0.9051142260432243_vortex_0.h5\n",
      "Screening solution not found. Solving.\n"
     ]
    },
    {
     "name": "stderr",
     "output_type": "stream",
     "text": [
      "Simulating: 100%|█████████████████████████████████████████████████████████████████████████████████████████████████▌| 10/10 [00:59<00:00,  5.94s/tau ]\n"
     ]
    },
    {
     "name": "stdout",
     "output_type": "stream",
     "text": [
      "'square_hole'\n",
      "Using non_screened seed solution\n",
      "File with the closest field: field_-1.4951908960938454_vortex_0.h5\n",
      "Closest field value: field_-1.4951908960938454_vortex_0.h5\n",
      "Calculating -1.4951908960938454, 0 using field_-1.4951908960938454_vortex_0.h5\n",
      "Screening solution not found. Solving.\n"
     ]
    },
    {
     "name": "stderr",
     "output_type": "stream",
     "text": [
      "Simulating: 100%|█████████████████████████████████████████████████████████████████████████████████████████████████▊| 10/10 [01:02<00:00,  6.27s/tau ]\n"
     ]
    },
    {
     "name": "stdout",
     "output_type": "stream",
     "text": [
      "'square_hole'\n",
      "Using non_screened seed solution\n",
      "File with the closest field: field_1.5051905065774918_vortex_0.h5\n",
      "Closest field value: field_1.5051905065774918_vortex_0.h5\n",
      "Calculating 1.5051905065774918, 0 using field_1.5051905065774918_vortex_0.h5\n",
      "Screening solution not found. Solving.\n"
     ]
    },
    {
     "name": "stderr",
     "output_type": "stream",
     "text": [
      "Simulating: 100%|█████████████████████████████████████████████████████████████████████████████████████████████████▋| 10/10 [01:02<00:00,  6.29s/tau ]\n"
     ]
    },
    {
     "name": "stdout",
     "output_type": "stream",
     "text": [
      "'square_hole'\n",
      "Using non_screened seed solution\n",
      "File with the closest field: field_-2.095267176628113_vortex_0.h5\n",
      "Closest field value: field_-2.095267176628113_vortex_0.h5\n",
      "Calculating -2.095267176628113, 0 using field_-2.095267176628113_vortex_0.h5\n",
      "Screening solution not found. Solving.\n"
     ]
    },
    {
     "name": "stderr",
     "output_type": "stream",
     "text": [
      "Simulating: 100%|█████████████████████████████████████████████████████████████████████████████████████████████████▊| 10/10 [01:01<00:00,  6.18s/tau ]\n"
     ]
    },
    {
     "name": "stdout",
     "output_type": "stream",
     "text": [
      "'square_hole'\n",
      "Using non_screened seed solution\n",
      "File with the closest field: field_2.105266787111759_vortex_0.h5\n",
      "Closest field value: field_2.105266787111759_vortex_0.h5\n",
      "Calculating 2.105266787111759, 0 using field_2.105266787111759_vortex_0.h5\n",
      "Screening solution not found. Solving.\n"
     ]
    },
    {
     "name": "stderr",
     "output_type": "stream",
     "text": [
      "Simulating:   0%|                                                                                       | 0/10 [00:17<48792:36:32, 17565341.00s/tau ]\n",
      "Ignoring the following exception in DataHandler.__exit__():\n",
      "Traceback (most recent call last):\n",
      "  File \"C:\\Users\\draid\\AppData\\Local\\Temp\\ipykernel_9992\\1136177062.py\", line 16, in recalculate_solution_with_screening\n",
      "    solution = tdgl.Solution.from_hdf5(save_file)\n",
      "               ^^^^^^^^^^^^^^^^^^^^^^^^^^^^^^^^^^\n",
      "  File \"C:\\Users\\draid\\anaconda3\\Lib\\site-packages\\tdgl\\solution\\solution.py\", line 976, in from_hdf5\n",
      "    with h5py.File(path, \"r\") as f:\n",
      "         ^^^^^^^^^^^^^^^^^^^^\n",
      "  File \"C:\\Users\\draid\\anaconda3\\Lib\\site-packages\\h5py\\_hl\\files.py\", line 567, in __init__\n",
      "    fid = make_fid(name, mode, userblock_size, fapl, fcpl, swmr=swmr)\n",
      "          ^^^^^^^^^^^^^^^^^^^^^^^^^^^^^^^^^^^^^^^^^^^^^^^^^^^^^^^^^^^\n",
      "  File \"C:\\Users\\draid\\anaconda3\\Lib\\site-packages\\h5py\\_hl\\files.py\", line 231, in make_fid\n",
      "    fid = h5f.open(name, flags, fapl=fapl)\n",
      "          ^^^^^^^^^^^^^^^^^^^^^^^^^^^^^^^^\n",
      "  File \"h5py\\_objects.pyx\", line 54, in h5py._objects.with_phil.wrapper\n",
      "  File \"h5py\\_objects.pyx\", line 55, in h5py._objects.with_phil.wrapper\n",
      "  File \"h5py\\h5f.pyx\", line 106, in h5py.h5f.open\n",
      "FileNotFoundError: [Errno 2] Unable to open file (unable to open file: name = 'D:\\Documents\\0Purdue\\Research\\Rokhinson Lab\\CPR-Extraction/solutions/J7__no_antidot/screening/field_2.105266787111759_vortex_0.h5', errno = 2, error message = 'No such file or directory', flags = 0, o_flags = 0)\n",
      "\n",
      "During handling of the above exception, another exception occurred:\n",
      "\n",
      "Traceback (most recent call last):\n",
      "  File \"C:\\Users\\draid\\anaconda3\\Lib\\site-packages\\tdgl\\solver\\solver.py\", line 804, in solve\n",
      "    data_was_generated = runner.run()\n",
      "                         ^^^^^^^^^^^^\n",
      "  File \"C:\\Users\\draid\\anaconda3\\Lib\\site-packages\\tdgl\\solver\\runner.py\", line 322, in run\n",
      "    self._run_stage(\n",
      "  File \"C:\\Users\\draid\\anaconda3\\Lib\\site-packages\\tdgl\\solver\\runner.py\", line 417, in _run_stage\n",
      "    function_result = self.function(\n",
      "                      ^^^^^^^^^^^^^^\n",
      "  File \"C:\\Users\\draid\\anaconda3\\Lib\\site-packages\\tdgl\\solver\\solver.py\", line 658, in update\n",
      "    raise RuntimeError(\n",
      "RuntimeError: Screening calculation failed to converge at step 1 after 1000 iterations. Relative error in induced vector potential: 3.83e-02 (tolerance: 1.00e-03).\n",
      "\n"
     ]
    },
    {
     "name": "stdout",
     "output_type": "stream",
     "text": [
      "Screening calculation failed to converge at step 1 after 1000 iterations. Relative error in induced vector potential: 3.83e-02 (tolerance: 1.00e-03).\n",
      "Using non_screened seed solution\n",
      "File with the closest field: field_-2.69534345716238_vortex_0.h5\n",
      "Closest field value: field_-2.69534345716238_vortex_0.h5\n",
      "Calculating -2.69534345716238, 0 using field_-2.69534345716238_vortex_0.h5\n",
      "Screening solution not found. Solving.\n"
     ]
    },
    {
     "name": "stderr",
     "output_type": "stream",
     "text": [
      "Simulating: 100%|█████████████████████████████████████████████████████████████████████████████████████████████████▋| 10/10 [01:02<00:00,  6.28s/tau ]\n"
     ]
    },
    {
     "name": "stdout",
     "output_type": "stream",
     "text": [
      "'square_hole'\n",
      "Using non_screened seed solution\n",
      "File with the closest field: field_2.7053430676460266_vortex_0.h5\n",
      "Closest field value: field_2.7053430676460266_vortex_0.h5\n",
      "Calculating 2.7053430676460266, 0 using field_2.7053430676460266_vortex_0.h5\n",
      "Screening solution not found. Solving.\n"
     ]
    },
    {
     "name": "stderr",
     "output_type": "stream",
     "text": [
      "Simulating: 100%|█████████████████████████████████████████████████████████████████████████████████████████████████▊| 10/10 [00:59<00:00,  5.96s/tau ]\n"
     ]
    },
    {
     "name": "stdout",
     "output_type": "stream",
     "text": [
      "'square_hole'\n",
      "Using non_screened seed solution\n",
      "File with the closest field: field_-3.2954197376966476_vortex_0.h5\n",
      "Closest field value: field_-3.2954197376966476_vortex_0.h5\n",
      "Calculating -3.2954197376966476, 0 using field_-3.2954197376966476_vortex_0.h5\n",
      "Screening solution not found. Solving.\n"
     ]
    },
    {
     "name": "stderr",
     "output_type": "stream",
     "text": [
      "Simulating: 100%|█████████████████████████████████████████████████████████████████████████████████████████████████▉| 10/10 [00:54<00:00,  5.41s/tau ]\n"
     ]
    },
    {
     "name": "stdout",
     "output_type": "stream",
     "text": [
      "'square_hole'\n",
      "Using non_screened seed solution\n",
      "File with the closest field: field_3.305419348180294_vortex_0.h5\n",
      "Closest field value: field_3.305419348180294_vortex_0.h5\n",
      "Calculating 3.305419348180294, 0 using field_3.305419348180294_vortex_0.h5\n",
      "Screening solution not found. Solving.\n"
     ]
    },
    {
     "name": "stderr",
     "output_type": "stream",
     "text": [
      "Simulating: 100%|█████████████████████████████████████████████████████████████████████████████████████████████████▊| 10/10 [00:57<00:00,  5.72s/tau ]\n"
     ]
    },
    {
     "name": "stdout",
     "output_type": "stream",
     "text": [
      "'square_hole'\n",
      "Using non_screened seed solution\n",
      "File with the closest field: field_-3.895496018230915_vortex_0.h5\n",
      "Closest field value: field_-3.895496018230915_vortex_0.h5\n",
      "Calculating -3.895496018230915, 0 using field_-3.895496018230915_vortex_0.h5\n",
      "Screening solution not found. Solving.\n"
     ]
    },
    {
     "name": "stderr",
     "output_type": "stream",
     "text": [
      "Simulating: 100%|█████████████████████████████████████████████████████████████████████████████████████████████████▉| 10/10 [01:02<00:00,  6.23s/tau ]\n"
     ]
    },
    {
     "name": "stdout",
     "output_type": "stream",
     "text": [
      "'square_hole'\n",
      "Using non_screened seed solution\n",
      "File with the closest field: field_3.9054956287145615_vortex_0.h5\n",
      "Closest field value: field_3.9054956287145615_vortex_0.h5\n",
      "Calculating 3.9054956287145615, 0 using field_3.9054956287145615_vortex_0.h5\n",
      "Screening solution not found. Solving.\n"
     ]
    },
    {
     "name": "stderr",
     "output_type": "stream",
     "text": [
      "Simulating: 100%|█████████████████████████████████████████████████████████████████████████████████████████████████▉| 10/10 [01:00<00:00,  6.02s/tau ]\n"
     ]
    },
    {
     "name": "stdout",
     "output_type": "stream",
     "text": [
      "'square_hole'\n",
      "Using non_screened seed solution\n",
      "File with the closest field: field_-4.4955722987651825_vortex_0.h5\n",
      "Closest field value: field_-4.4955722987651825_vortex_0.h5\n",
      "Calculating -4.4955722987651825, 0 using field_-4.4955722987651825_vortex_0.h5\n",
      "Screening solution not found. Solving.\n"
     ]
    },
    {
     "name": "stderr",
     "output_type": "stream",
     "text": [
      "Simulating: 100%|█████████████████████████████████████████████████████████████████████████████████████████████████▉| 10/10 [01:02<00:00,  6.23s/tau ]\n"
     ]
    },
    {
     "name": "stdout",
     "output_type": "stream",
     "text": [
      "'square_hole'\n",
      "Using non_screened seed solution\n",
      "File with the closest field: field_4.505571909248829_vortex_0.h5\n",
      "Closest field value: field_4.505571909248829_vortex_0.h5\n",
      "Calculating 4.505571909248829, 0 using field_4.505571909248829_vortex_0.h5\n",
      "Screening solution not found. Solving.\n"
     ]
    },
    {
     "name": "stderr",
     "output_type": "stream",
     "text": [
      "Simulating: 100%|█████████████████████████████████████████████████████████████████████████████████████████████████▊| 10/10 [01:07<00:00,  6.73s/tau ]\n"
     ]
    },
    {
     "name": "stdout",
     "output_type": "stream",
     "text": [
      "'square_hole'\n",
      "Using non_screened seed solution\n",
      "File with the closest field: field_-5.09564857929945_vortex_0.h5\n",
      "Closest field value: field_-5.09564857929945_vortex_0.h5\n",
      "Calculating -5.09564857929945, 0 using field_-5.09564857929945_vortex_0.h5\n",
      "Screening solution not found. Solving.\n"
     ]
    },
    {
     "name": "stderr",
     "output_type": "stream",
     "text": [
      "Simulating: 100%|█████████████████████████████████████████████████████████████████████████████████████████████████▊| 10/10 [00:59<00:00,  6.00s/tau ]\n"
     ]
    },
    {
     "name": "stdout",
     "output_type": "stream",
     "text": [
      "'square_hole'\n",
      "Using non_screened seed solution\n",
      "File with the closest field: field_5.105648189783096_vortex_0.h5\n",
      "Closest field value: field_5.105648189783096_vortex_0.h5\n",
      "Calculating 5.105648189783096, 0 using field_5.105648189783096_vortex_0.h5\n",
      "Screening solution not found. Solving.\n"
     ]
    },
    {
     "name": "stderr",
     "output_type": "stream",
     "text": [
      "Simulating:  99%|████████████████████████████████████████████████████████████████████████████████████████████████▉ | 10/10 [01:02<00:00,  6.36s/tau ]\n"
     ]
    },
    {
     "name": "stdout",
     "output_type": "stream",
     "text": [
      "'square_hole'\n",
      "Using non_screened seed solution\n",
      "File with the closest field: field_-5.695724859833717_vortex_0.h5\n",
      "Closest field value: field_-5.695724859833717_vortex_0.h5\n",
      "Calculating -5.695724859833717, 0 using field_-5.695724859833717_vortex_0.h5\n",
      "Screening solution not found. Solving.\n"
     ]
    },
    {
     "name": "stderr",
     "output_type": "stream",
     "text": [
      "Simulating: 100%|█████████████████████████████████████████████████████████████████████████████████████████████████▌| 10/10 [01:03<00:00,  6.37s/tau ]\n"
     ]
    },
    {
     "name": "stdout",
     "output_type": "stream",
     "text": [
      "'square_hole'\n",
      "Using non_screened seed solution\n",
      "File with the closest field: field_5.705724470317364_vortex_0.h5\n",
      "Closest field value: field_5.705724470317364_vortex_0.h5\n",
      "Calculating 5.705724470317364, 0 using field_5.705724470317364_vortex_0.h5\n",
      "Screening solution not found. Solving.\n"
     ]
    },
    {
     "name": "stderr",
     "output_type": "stream",
     "text": [
      "Simulating: 100%|█████████████████████████████████████████████████████████████████████████████████████████████████▉| 10/10 [01:07<00:00,  6.75s/tau ]\n"
     ]
    },
    {
     "name": "stdout",
     "output_type": "stream",
     "text": [
      "'square_hole'\n",
      "Using non_screened seed solution\n",
      "File with the closest field: field_-6.295801140367985_vortex_0.h5\n",
      "Closest field value: field_-6.295801140367985_vortex_0.h5\n",
      "Calculating -6.295801140367985, 0 using field_-6.295801140367985_vortex_0.h5\n",
      "Screening solution not found. Solving.\n"
     ]
    },
    {
     "name": "stderr",
     "output_type": "stream",
     "text": [
      "Simulating: 100%|█████████████████████████████████████████████████████████████████████████████████████████████████▉| 10/10 [01:06<00:00,  6.64s/tau ]\n"
     ]
    },
    {
     "name": "stdout",
     "output_type": "stream",
     "text": [
      "'square_hole'\n",
      "Using non_screened seed solution\n",
      "File with the closest field: field_6.305800750851631_vortex_0.h5\n",
      "Closest field value: field_6.305800750851631_vortex_0.h5\n",
      "Calculating 6.305800750851631, 0 using field_6.305800750851631_vortex_0.h5\n",
      "Screening solution not found. Solving.\n"
     ]
    },
    {
     "name": "stderr",
     "output_type": "stream",
     "text": [
      "Simulating: 100%|█████████████████████████████████████████████████████████████████████████████████████████████████▋| 10/10 [01:03<00:00,  6.38s/tau ]\n"
     ]
    },
    {
     "name": "stdout",
     "output_type": "stream",
     "text": [
      "'square_hole'\n",
      "Using non_screened seed solution\n",
      "File with the closest field: field_-6.895877420902252_vortex_0.h5\n",
      "Closest field value: field_-6.895877420902252_vortex_0.h5\n",
      "Calculating -6.895877420902252, 0 using field_-6.895877420902252_vortex_0.h5\n",
      "Screening solution not found. Solving.\n"
     ]
    },
    {
     "name": "stderr",
     "output_type": "stream",
     "text": [
      "Simulating:  99%|█████████████████████████████████████████████████████████████████████████████████████████████████▎| 10/10 [01:08<00:00,  6.93s/tau ]\n"
     ]
    },
    {
     "name": "stdout",
     "output_type": "stream",
     "text": [
      "'square_hole'\n",
      "Using non_screened seed solution\n",
      "File with the closest field: field_6.905877031385899_vortex_0.h5\n",
      "Closest field value: field_6.905877031385899_vortex_0.h5\n",
      "Calculating 6.905877031385899, 0 using field_6.905877031385899_vortex_0.h5\n",
      "Screening solution not found. Solving.\n"
     ]
    },
    {
     "name": "stderr",
     "output_type": "stream",
     "text": [
      "Simulating: 100%|█████████████████████████████████████████████████████████████████████████████████████████████████▌| 10/10 [01:04<00:00,  6.50s/tau ]\n"
     ]
    },
    {
     "name": "stdout",
     "output_type": "stream",
     "text": [
      "'square_hole'\n",
      "Using non_screened seed solution\n",
      "File with the closest field: field_-7.49595370143652_vortex_0.h5\n",
      "Closest field value: field_-7.49595370143652_vortex_0.h5\n",
      "Calculating -7.49595370143652, 0 using field_-7.49595370143652_vortex_0.h5\n",
      "Screening solution not found. Solving.\n"
     ]
    },
    {
     "name": "stderr",
     "output_type": "stream",
     "text": [
      "Simulating: 100%|█████████████████████████████████████████████████████████████████████████████████████████████████▉| 10/10 [01:06<00:00,  6.65s/tau ]\n"
     ]
    },
    {
     "name": "stdout",
     "output_type": "stream",
     "text": [
      "'square_hole'\n",
      "Using non_screened seed solution\n",
      "File with the closest field: field_7.505953311920166_vortex_0.h5\n",
      "Closest field value: field_7.505953311920166_vortex_0.h5\n",
      "Calculating 7.505953311920166, 0 using field_7.505953311920166_vortex_0.h5\n",
      "Screening solution not found. Solving.\n"
     ]
    },
    {
     "name": "stderr",
     "output_type": "stream",
     "text": [
      "Simulating: 100%|█████████████████████████████████████████████████████████████████████████████████████████████████▉| 10/10 [01:09<00:00,  6.92s/tau ]\n"
     ]
    },
    {
     "name": "stdout",
     "output_type": "stream",
     "text": [
      "'square_hole'\n",
      "Using non_screened seed solution\n",
      "File with the closest field: field_-8.096029981970787_vortex_0.h5\n",
      "Closest field value: field_-8.096029981970787_vortex_0.h5\n",
      "Calculating -8.096029981970787, 0 using field_-8.096029981970787_vortex_0.h5\n",
      "Screening solution not found. Solving.\n"
     ]
    },
    {
     "name": "stderr",
     "output_type": "stream",
     "text": [
      "Simulating: 100%|█████████████████████████████████████████████████████████████████████████████████████████████████▊| 10/10 [01:10<00:00,  7.01s/tau ]\n"
     ]
    },
    {
     "name": "stdout",
     "output_type": "stream",
     "text": [
      "'square_hole'\n",
      "Using non_screened seed solution\n",
      "File with the closest field: field_8.106029592454433_vortex_0.h5\n",
      "Closest field value: field_8.106029592454433_vortex_0.h5\n",
      "Calculating 8.106029592454433, 0 using field_8.106029592454433_vortex_0.h5\n",
      "Screening solution not found. Solving.\n"
     ]
    },
    {
     "name": "stderr",
     "output_type": "stream",
     "text": [
      "Simulating:  99%|█████████████████████████████████████████████████████████████████████████████████████████████████▎| 10/10 [01:09<00:00,  6.97s/tau ]\n"
     ]
    },
    {
     "name": "stdout",
     "output_type": "stream",
     "text": [
      "'square_hole'\n",
      "Using non_screened seed solution\n",
      "File with the closest field: field_-8.696106262505054_vortex_0.h5\n",
      "Closest field value: field_-8.696106262505054_vortex_0.h5\n",
      "Calculating -8.696106262505054, 0 using field_-8.696106262505054_vortex_0.h5\n",
      "Screening solution not found. Solving.\n"
     ]
    },
    {
     "name": "stderr",
     "output_type": "stream",
     "text": [
      "Simulating: 100%|█████████████████████████████████████████████████████████████████████████████████████████████████▊| 10/10 [01:16<00:00,  7.67s/tau ]\n"
     ]
    },
    {
     "name": "stdout",
     "output_type": "stream",
     "text": [
      "'square_hole'\n",
      "Using non_screened seed solution\n",
      "File with the closest field: field_8.7061058729887_vortex_0.h5\n",
      "Closest field value: field_8.7061058729887_vortex_0.h5\n",
      "Calculating 8.7061058729887, 0 using field_8.7061058729887_vortex_0.h5\n",
      "Screening solution not found. Solving.\n"
     ]
    },
    {
     "name": "stderr",
     "output_type": "stream",
     "text": [
      "Simulating: 100%|█████████████████████████████████████████████████████████████████████████████████████████████████▊| 10/10 [01:10<00:00,  7.09s/tau ]\n"
     ]
    },
    {
     "name": "stdout",
     "output_type": "stream",
     "text": [
      "'square_hole'\n",
      "Using non_screened seed solution\n",
      "File with the closest field: field_-9.296182543039322_vortex_0.h5\n",
      "Closest field value: field_-9.296182543039322_vortex_0.h5\n",
      "Calculating -9.296182543039322, 0 using field_-9.296182543039322_vortex_0.h5\n",
      "Screening solution not found. Solving.\n"
     ]
    },
    {
     "name": "stderr",
     "output_type": "stream",
     "text": [
      "Simulating:  99%|█████████████████████████████████████████████████████████████████████████████████████████████████ | 10/10 [01:13<00:00,  7.39s/tau ]\n"
     ]
    },
    {
     "name": "stdout",
     "output_type": "stream",
     "text": [
      "'square_hole'\n",
      "Using non_screened seed solution\n",
      "File with the closest field: field_9.306182153522968_vortex_0.h5\n",
      "Closest field value: field_9.306182153522968_vortex_0.h5\n",
      "Calculating 9.306182153522968, 0 using field_9.306182153522968_vortex_0.h5\n",
      "Screening solution not found. Solving.\n"
     ]
    },
    {
     "name": "stderr",
     "output_type": "stream",
     "text": [
      "Simulating: 100%|█████████████████████████████████████████████████████████████████████████████████████████████████▋| 10/10 [01:14<00:00,  7.46s/tau ]\n"
     ]
    },
    {
     "name": "stdout",
     "output_type": "stream",
     "text": [
      "'square_hole'\n",
      "Using non_screened seed solution\n",
      "File with the closest field: field_-9.89625882357359_vortex_0.h5\n",
      "Closest field value: field_-9.89625882357359_vortex_0.h5\n",
      "Calculating -9.89625882357359, 0 using field_-9.89625882357359_vortex_0.h5\n",
      "Screening solution not found. Solving.\n"
     ]
    },
    {
     "name": "stderr",
     "output_type": "stream",
     "text": [
      "Simulating:  99%|█████████████████████████████████████████████████████████████████████████████████████████████████▎| 10/10 [01:25<00:00,  8.63s/tau ]\n"
     ]
    },
    {
     "name": "stdout",
     "output_type": "stream",
     "text": [
      "'square_hole'\n",
      "Using non_screened seed solution\n",
      "File with the closest field: field_9.906258434057236_vortex_0.h5\n",
      "Closest field value: field_9.906258434057236_vortex_0.h5\n",
      "Calculating 9.906258434057236, 0 using field_9.906258434057236_vortex_0.h5\n",
      "Screening solution not found. Solving.\n"
     ]
    },
    {
     "name": "stderr",
     "output_type": "stream",
     "text": [
      "Simulating: 100%|█████████████████████████████████████████████████████████████████████████████████████████████████▊| 10/10 [01:19<00:00,  7.96s/tau ]\n"
     ]
    },
    {
     "name": "stdout",
     "output_type": "stream",
     "text": [
      "'square_hole'\n",
      "Using non_screened seed solution\n",
      "File with the closest field: field_-10.496335104107857_vortex_0.h5\n",
      "Closest field value: field_-10.496335104107857_vortex_0.h5\n",
      "Calculating -10.496335104107857, 0 using field_-10.496335104107857_vortex_0.h5\n",
      "Screening solution not found. Solving.\n"
     ]
    },
    {
     "name": "stderr",
     "output_type": "stream",
     "text": [
      "Simulating: 100%|█████████████████████████████████████████████████████████████████████████████████████████████████▉| 10/10 [01:26<00:00,  8.65s/tau ]\n"
     ]
    },
    {
     "name": "stdout",
     "output_type": "stream",
     "text": [
      "'square_hole'\n",
      "Using non_screened seed solution\n",
      "File with the closest field: field_10.506334714591503_vortex_0.h5\n",
      "Closest field value: field_10.506334714591503_vortex_0.h5\n",
      "Calculating 10.506334714591503, 0 using field_10.506334714591503_vortex_0.h5\n",
      "Screening solution not found. Solving.\n"
     ]
    },
    {
     "name": "stderr",
     "output_type": "stream",
     "text": [
      "Simulating:  99%|█████████████████████████████████████████████████████████████████████████████████████████████████▎| 10/10 [01:23<00:00,  8.41s/tau ]\n"
     ]
    },
    {
     "name": "stdout",
     "output_type": "stream",
     "text": [
      "'square_hole'\n",
      "Using non_screened seed solution\n",
      "File with the closest field: field_-11.096411384642124_vortex_0.h5\n",
      "Closest field value: field_-11.096411384642124_vortex_0.h5\n",
      "Calculating -11.096411384642124, 0 using field_-11.096411384642124_vortex_0.h5\n",
      "Screening solution not found. Solving.\n"
     ]
    },
    {
     "name": "stderr",
     "output_type": "stream",
     "text": [
      "Simulating:  99%|█████████████████████████████████████████████████████████████████████████████████████████████████▏| 10/10 [01:32<00:00,  9.28s/tau ]\n"
     ]
    },
    {
     "name": "stdout",
     "output_type": "stream",
     "text": [
      "'square_hole'\n",
      "Using non_screened seed solution\n",
      "File with the closest field: field_11.10641099512577_vortex_0.h5\n",
      "Closest field value: field_11.10641099512577_vortex_0.h5\n",
      "Calculating 11.10641099512577, 0 using field_11.10641099512577_vortex_0.h5\n",
      "Screening solution not found. Solving.\n"
     ]
    },
    {
     "name": "stderr",
     "output_type": "stream",
     "text": [
      "Simulating: 100%|█████████████████████████████████████████████████████████████████████████████████████████████████▉| 10/10 [01:26<00:00,  8.67s/tau ]\n"
     ]
    },
    {
     "name": "stdout",
     "output_type": "stream",
     "text": [
      "'square_hole'\n",
      "Using non_screened seed solution\n",
      "File with the closest field: field_-11.696487665176392_vortex_0.h5\n",
      "Closest field value: field_-11.696487665176392_vortex_0.h5\n",
      "Calculating -11.696487665176392, 0 using field_-11.696487665176392_vortex_0.h5\n",
      "Screening solution not found. Solving.\n"
     ]
    },
    {
     "name": "stderr",
     "output_type": "stream",
     "text": [
      "Simulating: 100%|█████████████████████████████████████████████████████████████████████████████████████████████████▊| 10/10 [01:38<00:00,  9.87s/tau ]\n"
     ]
    },
    {
     "name": "stdout",
     "output_type": "stream",
     "text": [
      "'square_hole'\n",
      "Using non_screened seed solution\n",
      "File with the closest field: field_11.706487275660038_vortex_0.h5\n",
      "Closest field value: field_11.706487275660038_vortex_0.h5\n",
      "Calculating 11.706487275660038, 0 using field_11.706487275660038_vortex_0.h5\n",
      "Screening solution not found. Solving.\n"
     ]
    },
    {
     "name": "stderr",
     "output_type": "stream",
     "text": [
      "Simulating: 100%|█████████████████████████████████████████████████████████████████████████████████████████████████▉| 10/10 [01:39<00:00,  9.96s/tau ]\n"
     ]
    },
    {
     "name": "stdout",
     "output_type": "stream",
     "text": [
      "'square_hole'\n",
      "Using non_screened seed solution\n",
      "File with the closest field: field_-12.296563945710659_vortex_0.h5\n",
      "Closest field value: field_-12.296563945710659_vortex_0.h5\n",
      "Calculating -12.296563945710659, 0 using field_-12.296563945710659_vortex_0.h5\n",
      "Screening solution not found. Solving.\n"
     ]
    },
    {
     "name": "stderr",
     "output_type": "stream",
     "text": [
      "Simulating: 100%|█████████████████████████████████████████████████████████████████████████████████████████████████▉| 10/10 [02:11<00:00, 13.14s/tau ]\n"
     ]
    },
    {
     "name": "stdout",
     "output_type": "stream",
     "text": [
      "'square_hole'\n",
      "Using non_screened seed solution\n",
      "File with the closest field: field_12.306563556194305_vortex_0.h5\n",
      "Closest field value: field_12.306563556194305_vortex_0.h5\n",
      "Calculating 12.306563556194305, 0 using field_12.306563556194305_vortex_0.h5\n",
      "Screening solution not found. Solving.\n"
     ]
    },
    {
     "name": "stderr",
     "output_type": "stream",
     "text": [
      "Simulating: 100%|█████████████████████████████████████████████████████████████████████████████████████████████████▋| 10/10 [01:45<00:00, 10.54s/tau ]\n"
     ]
    },
    {
     "name": "stdout",
     "output_type": "stream",
     "text": [
      "'square_hole'\n",
      "Using non_screened seed solution\n",
      "File with the closest field: field_-12.896640226244926_vortex_0.h5\n",
      "Closest field value: field_-12.896640226244926_vortex_0.h5\n",
      "Calculating -12.896640226244926, 0 using field_-12.896640226244926_vortex_0.h5\n",
      "Screening solution not found. Solving.\n"
     ]
    },
    {
     "name": "stderr",
     "output_type": "stream",
     "text": [
      "Simulating: 100%|█████████████████████████████████████████████████████████████████████████████████████████████████▉| 10/10 [02:03<00:00, 12.34s/tau ]\n"
     ]
    },
    {
     "name": "stdout",
     "output_type": "stream",
     "text": [
      "'square_hole'\n",
      "Using non_screened seed solution\n",
      "File with the closest field: field_12.906639836728573_vortex_0.h5\n",
      "Closest field value: field_12.906639836728573_vortex_0.h5\n",
      "Calculating 12.906639836728573, 0 using field_12.906639836728573_vortex_0.h5\n",
      "Screening solution not found. Solving.\n"
     ]
    },
    {
     "name": "stderr",
     "output_type": "stream",
     "text": [
      "Simulating: 100%|█████████████████████████████████████████████████████████████████████████████████████████████████▉| 10/10 [02:01<00:00, 12.16s/tau ]\n"
     ]
    },
    {
     "name": "stdout",
     "output_type": "stream",
     "text": [
      "'square_hole'\n",
      "Using non_screened seed solution\n",
      "File with the closest field: field_-13.496716506779194_vortex_0.h5\n",
      "Closest field value: field_-13.496716506779194_vortex_0.h5\n",
      "Calculating -13.496716506779194, 0 using field_-13.496716506779194_vortex_0.h5\n",
      "Screening solution not found. Solving.\n"
     ]
    },
    {
     "name": "stderr",
     "output_type": "stream",
     "text": [
      "Simulating: 100%|█████████████████████████████████████████████████████████████████████████████████████████████████▋| 10/10 [02:17<00:00, 13.83s/tau ]\n"
     ]
    },
    {
     "name": "stdout",
     "output_type": "stream",
     "text": [
      "'square_hole'\n",
      "Using non_screened seed solution\n",
      "File with the closest field: field_13.50671611726284_vortex_0.h5\n",
      "Closest field value: field_13.50671611726284_vortex_0.h5\n",
      "Calculating 13.50671611726284, 0 using field_13.50671611726284_vortex_0.h5\n",
      "Screening solution not found. Solving.\n"
     ]
    },
    {
     "name": "stderr",
     "output_type": "stream",
     "text": [
      "Simulating: 100%|█████████████████████████████████████████████████████████████████████████████████████████████████▋| 10/10 [02:22<00:00, 14.25s/tau ]\n"
     ]
    },
    {
     "name": "stdout",
     "output_type": "stream",
     "text": [
      "'square_hole'\n",
      "Using non_screened seed solution\n",
      "File with the closest field: field_-14.096792787313461_vortex_0.h5\n",
      "Closest field value: field_-14.096792787313461_vortex_0.h5\n",
      "Calculating -14.096792787313461, 0 using field_-14.096792787313461_vortex_0.h5\n",
      "Screening solution not found. Solving.\n"
     ]
    },
    {
     "name": "stderr",
     "output_type": "stream",
     "text": [
      "Simulating: 100%|█████████████████████████████████████████████████████████████████████████████████████████████████▉| 10/10 [02:56<00:00, 17.65s/tau ]\n"
     ]
    },
    {
     "name": "stdout",
     "output_type": "stream",
     "text": [
      "'square_hole'\n",
      "Using non_screened seed solution\n",
      "File with the closest field: field_14.106792397797108_vortex_0.h5\n",
      "Closest field value: field_14.106792397797108_vortex_0.h5\n",
      "Calculating 14.106792397797108, 0 using field_14.106792397797108_vortex_0.h5\n",
      "Screening solution not found. Solving.\n"
     ]
    },
    {
     "name": "stderr",
     "output_type": "stream",
     "text": [
      "Simulating: 100%|█████████████████████████████████████████████████████████████████████████████████████████████████▊| 10/10 [03:05<00:00, 18.57s/tau ]\n"
     ]
    },
    {
     "name": "stdout",
     "output_type": "stream",
     "text": [
      "'square_hole'\n",
      "Using non_screened seed solution\n",
      "File with the closest field: field_-14.696869067847729_vortex_0.h5\n",
      "Closest field value: field_-14.696869067847729_vortex_0.h5\n",
      "Calculating -14.696869067847729, 0 using field_-14.696869067847729_vortex_0.h5\n",
      "Screening solution not found. Solving.\n"
     ]
    },
    {
     "name": "stderr",
     "output_type": "stream",
     "text": [
      "Simulating: 100%|█████████████████████████████████████████████████████████████████████████████████████████████████▉| 10/10 [02:36<00:00, 15.66s/tau ]\n"
     ]
    },
    {
     "name": "stdout",
     "output_type": "stream",
     "text": [
      "'square_hole'\n",
      "Using non_screened seed solution\n",
      "File with the closest field: field_14.706868678331375_vortex_0.h5\n",
      "Closest field value: field_14.706868678331375_vortex_0.h5\n",
      "Calculating 14.706868678331375, 0 using field_14.706868678331375_vortex_0.h5\n",
      "Screening solution not found. Solving.\n"
     ]
    },
    {
     "name": "stderr",
     "output_type": "stream",
     "text": [
      "Simulating: 100%|█████████████████████████████████████████████████████████████████████████████████████████████████▊| 10/10 [02:31<00:00, 15.13s/tau ]"
     ]
    },
    {
     "name": "stdout",
     "output_type": "stream",
     "text": [
      "'square_hole'\n"
     ]
    },
    {
     "name": "stderr",
     "output_type": "stream",
     "text": [
      "\n"
     ]
    }
   ],
   "source": [
    "def get_closest_solution(target_field_strength, target_vortex_count, folder):\n",
    "    try:\n",
    "        pattern = r'field_([-+]?\\d*\\.\\d+|\\d+)_vortex_([-+]?\\d+)'\n",
    "        single_vortex_files = [\n",
    "            file for file in os.listdir(folder)\n",
    "            if (match := re.search(pattern, file)) and int(match.group(2)) == target_vortex_count\n",
    "        ]\n",
    "        field_strengths = [\n",
    "            float(re.search(pattern, file).group(1)) for file in single_vortex_files\n",
    "        ]\n",
    "\n",
    "        closest_index = np.argmin(np.abs(np.array(field_strengths) - target_field_strength))\n",
    "\n",
    "        # Get the corresponding filename\n",
    "        closest_file = single_vortex_files[closest_index]\n",
    "        closest_float = field_strengths[closest_index]\n",
    "\n",
    "        # Print the file with the smallest float value\n",
    "        print(f'File with the closest field: {closest_file}')\n",
    "        print(f'Closest field value: {closest_file}')\n",
    "        return closest_file\n",
    "    except Exception as e:\n",
    "        return None \n",
    "    \n",
    "# # Redo the simulations that jumped using the closest calculated solution\n",
    "no_screening_folder = os.getcwd() + \"/solutions/\" + project_name + \"/no_screening/\"\n",
    "stable_no_screening_folder = os.getcwd() + \"/solutions/\" + project_name + \"/stable_no_screening/\"\n",
    "screening_folder = os.getcwd() + \"/solutions/\" + project_name + \"/no_screening/\"\n",
    "\n",
    "no_screening_files = os.listdir(no_screening_folder)\n",
    "stable_no_screening_files = os.listdir(stable_no_screening_folder)\n",
    "\n",
    "simulation_points = []\n",
    "for file_name in no_screening_files:\n",
    "    file_pattern = r'field_([-+]?\\d*\\.\\d+|\\d+)_vortex_([-+]?\\d+)'\n",
    "    match = re.search(file_pattern, file_name)\n",
    "    if match:\n",
    "        field_strength = float(match.group(1))\n",
    "        initial_vortex_count = int(match.group(2))\n",
    "        simulation_points.append((file_name, field_strength, initial_vortex_count))\n",
    "    else:\n",
    "        print(\"WARNING: Corrupt filenames present in ./solutions/no_screening\")\n",
    "\n",
    "for vortex_count_to_simulate in np.unique([point[2] for point in simulation_points]):\n",
    "    \n",
    "    #Sort the required simulations by absolute value\n",
    "    single_vortex_list = sorted([point for point in simulation_points if point[2] == vortex_count_to_simulate], key=lambda point: abs(point[1]))\n",
    "    for sim_point in single_vortex_list:\n",
    "        file_name = sim_point[0]\n",
    "        field_strength = sim_point[1]\n",
    "        initial_vortex_count = sim_point[2]\n",
    "\n",
    "        #Determine the seed solution. If a screening solution has been generated, start with that one.\n",
    "        # Its probably close. Otherwise, use the no_screening_solution\n",
    "        screening_folder    = os.getcwd() + \"/solutions/\" + project_name + \"/screening/\"\n",
    "        stable_screening_folder    = os.getcwd() + \"/solutions/\" + project_name + \"/stable_screening/\"\n",
    "        stable_no_screening_folder = os.getcwd() + \"/solutions/\" + project_name + \"/stable_no_screening/\"\n",
    "        seed_sol_file_name = get_closest_solution(field_strength, initial_vortex_count, stable_screening_folder)\n",
    "        if(seed_sol_file_name is None):\n",
    "            print(\"Using non_screened seed solution\")\n",
    "            seed_sol_file_name = get_closest_solution(field_strength, initial_vortex_count, stable_no_screening_folder)\n",
    "            seed_solution = tdgl.Solution.from_hdf5(stable_no_screening_folder + seed_sol_file_name)\n",
    "        else:\n",
    "            print(\"Using screened seed solution\")\n",
    "            seed_solution = tdgl.Solution.from_hdf5(stable_screening_folder + seed_sol_file_name)\n",
    "\n",
    "\n",
    "        print(f\"Calculating {field_strength}, {initial_vortex_count} using {seed_sol_file_name}\")\n",
    "        save_file=screening_folder + file_name\n",
    "\n",
    "        try:\n",
    "            recalculate_solution_with_screening(field_strength, initial_vortex_count, seed_solution, save_file)\n",
    "            solution = tdgl.Solution.from_hdf5(save_file)\n",
    "            # Check to see if solution still contains the same number of vortices. If it does, it is a good screening solution\n",
    "            # so move it to the stable_no_screening folder\n",
    "            final_vortex_count = get_vortex_count(solution)\n",
    "            if(round(final_vortex_count) == initial_vortex_count):\n",
    "                print(\"MATCH\", final_vortex_count, initial_vortex_count, \"\\n\")\n",
    "                destination_file = stable_screening_folder + file_name\n",
    "                shutil.copy(save_file, destination_file)\n",
    "            else:\n",
    "                print(\"     MISMATCH\", final_vortex_count, initial_vortex_count, \"\\n\")\n",
    "        except Exception as e:\n",
    "                print(e)\n",
    "  "
   ]
  },
  {
   "cell_type": "code",
   "execution_count": null,
   "id": "a19f8573",
   "metadata": {},
   "outputs": [],
   "source": [
    "# Update Solutions with Screening\n",
    "for solution_name in os.listdir(os.getcwd() + \"/solutions/\" + project_name + \"/stable_no_screening/\"):\n",
    "    field_strength = float(solution_name.split(\"_\")[1])\n",
    "    if(field_strength > 5 and field_strength <= 6):\n",
    "        print(\"Field Strength: \" + str(field_strength))    \n",
    "        solution = tdgl.Solution.from_hdf5(os.getcwd() + \"/solutions/\" + project_name + \"/stable_no_screening/\" + solution_name)\n",
    "        initial_vortex_count = float(solution_name.split(\"_\")[3][:-3])\n",
    "        final_vortex_count = get_vortex_count(solution)\n",
    "        print(\"Initial Vortex_Count: \" + str(initial_vortex_count))\n",
    "        print(\"Final Vortex_Count: \" + str(final_vortex_count))\n",
    "        if(round(final_vortex_count,0) != 1):\n",
    "            print(\"Solving\")\n",
    "            recalculate_solution_with_screening(field_strength, initial_vortex_count, solution)\n",
    "        print()\n"
   ]
  },
  {
   "cell_type": "code",
   "execution_count": 51,
   "id": "f8e16542",
   "metadata": {},
   "outputs": [
    {
     "name": "stderr",
     "output_type": "stream",
     "text": [
      "Saving to field_-0.004637407138943672_vortex_-2.mp4: 100%|███████████████████████████████████████████████████████| 66/66 [00:37<00:00,  1.75frames/s]\n"
     ]
    }
   ],
   "source": [
    "#Render videos for all solutions\n",
    "\n",
    "os.makedirs(os.getcwd() + \"/videos/\" + project_name, exist_ok=True) #Create the directory to store the videos\n",
    "for solution_name in os.listdir(os.getcwd() + \"/solutions/\" + project_name + \"/\"):\n",
    "    try:\n",
    "        solution = tdgl.Solution.from_hdf5(os.getcwd() + \"/solutions/\" + project_name + \"/\" + solution_name)\n",
    "        #Generate the video if it doesn't exit\n",
    "        video_filename = os.getcwd() + \"/videos/\" + project_name + \"/\" + solution_name[:-3] + \".mp4\"\n",
    "        if not(os.path.exists(video_filename)):\n",
    "            make_video_from_solution(solution, output_file=video_filename)\n",
    "    except FiOleNotFoundError as e:\n",
    "        print(\"Error Loading Solution: \" + solution)\n",
    "        print(e)"
   ]
  },
  {
   "cell_type": "code",
   "execution_count": null,
   "id": "f321aa11",
   "metadata": {},
   "outputs": [],
   "source": []
  }
 ],
 "metadata": {
  "kernelspec": {
   "display_name": "Python 3 (ipykernel)",
   "language": "python",
   "name": "python3"
  },
  "language_info": {
   "codemirror_mode": {
    "name": "ipython",
    "version": 3
   },
   "file_extension": ".py",
   "mimetype": "text/x-python",
   "name": "python",
   "nbconvert_exporter": "python",
   "pygments_lexer": "ipython3",
   "version": "3.11.5"
  }
 },
 "nbformat": 4,
 "nbformat_minor": 5
}
